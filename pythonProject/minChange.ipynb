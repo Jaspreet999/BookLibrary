{
 "cells": [
  {
   "cell_type": "code",
   "execution_count": 33,
   "id": "64bb231b",
   "metadata": {},
   "outputs": [],
   "source": [
    "def minCount(coins,amount,dp):\n",
    "    if(amount == 0):\n",
    "        return 0\n",
    "    \n",
    "    ans = 1000\n",
    "    \n",
    "    for i in coins:\n",
    "        if(amount-i >=0):\n",
    "            if (dp[amount-i] != -1):\n",
    "                subAns = dp[amount-i]\n",
    "            else:    \n",
    "                subAns = minCount(coins,amount-i,dp)\n",
    "            \n",
    "            if( subAns < ans):\n",
    "                ans = subAns +1\n",
    "    dp[amount] =ans \n",
    "    return ans"
   ]
  },
  {
   "cell_type": "code",
   "execution_count": 34,
   "id": "2ef2a4ae",
   "metadata": {},
   "outputs": [
    {
     "name": "stdout",
     "output_type": "stream",
     "text": [
      "4\n"
     ]
    }
   ],
   "source": [
    "print(minCount([7,5,1],18,[-1]*19))"
   ]
  },
  {
   "cell_type": "code",
   "execution_count": 47,
   "id": "e6d46cdc",
   "metadata": {},
   "outputs": [
    {
     "name": "stdout",
     "output_type": "stream",
     "text": [
      "4558\n"
     ]
    }
   ],
   "source": [
    "def count(value):\n",
    "    output = \"\"\n",
    "    if(value<10):\n",
    "        return (10+value)\n",
    "    \n",
    "    for i in range(9,1,-1):\n",
    "        while(value%i == 0):\n",
    "            value = value//i\n",
    "            output = str(i) + output\n",
    "\n",
    "#         if(value == 1):\n",
    "#             break\n",
    "                \n",
    "    if(value>10):\n",
    "        return \"ouptut not possible\"\n",
    "        \n",
    "    return output\n",
    "\n",
    "print(count())"
   ]
  },
  {
   "cell_type": "code",
   "execution_count": 55,
   "id": "1f27ce39",
   "metadata": {},
   "outputs": [
    {
     "name": "stdout",
     "output_type": "stream",
     "text": [
      "1\n"
     ]
    }
   ],
   "source": [
    "def paranthesis(data):\n",
    "    stack = []\n",
    "    \n",
    "    for i in data:\n",
    "        if(i == '('):\n",
    "            stack.append('(')\n",
    "        if(i == ')'):\n",
    "            if(len(stack)>0):\n",
    "                stack.pop()\n",
    "            else:\n",
    "                return -1\n",
    "    if(len(stack)>0):\n",
    "        return -1\n",
    "    return 1\n",
    "print(paranthesis(\"\")"
   ]
  },
  {
   "cell_type": "code",
   "execution_count": null,
   "id": "a3f5606d",
   "metadata": {},
   "outputs": [],
   "source": []
  }
 ],
 "metadata": {
  "kernelspec": {
   "display_name": "Python 3",
   "language": "python",
   "name": "python3"
  },
  "language_info": {
   "codemirror_mode": {
    "name": "ipython",
    "version": 3
   },
   "file_extension": ".py",
   "mimetype": "text/x-python",
   "name": "python",
   "nbconvert_exporter": "python",
   "pygments_lexer": "ipython3",
   "version": "3.8.8"
  }
 },
 "nbformat": 4,
 "nbformat_minor": 5
}
