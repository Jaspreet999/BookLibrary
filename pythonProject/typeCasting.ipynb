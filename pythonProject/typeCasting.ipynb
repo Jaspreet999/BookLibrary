{
 "cells": [
  {
   "cell_type": "markdown",
   "id": "a13384a3",
   "metadata": {},
   "source": [
    "### Type Casting"
   ]
  },
  {
   "cell_type": "code",
   "execution_count": 116,
   "id": "123ddeb2",
   "metadata": {},
   "outputs": [],
   "source": [
    "var1 = '123.344'"
   ]
  },
  {
   "cell_type": "code",
   "execution_count": 117,
   "id": "d3d9766f",
   "metadata": {},
   "outputs": [
    {
     "data": {
      "text/plain": [
       "str"
      ]
     },
     "execution_count": 117,
     "metadata": {},
     "output_type": "execute_result"
    }
   ],
   "source": [
    "type(var1)"
   ]
  },
  {
   "cell_type": "code",
   "execution_count": 118,
   "id": "98f52630",
   "metadata": {},
   "outputs": [],
   "source": [
    "var2 = float((var1))"
   ]
  },
  {
   "cell_type": "code",
   "execution_count": 119,
   "id": "d157b239",
   "metadata": {},
   "outputs": [
    {
     "name": "stdout",
     "output_type": "stream",
     "text": [
      "123.344\n"
     ]
    }
   ],
   "source": [
    "print(var2)"
   ]
  },
  {
   "cell_type": "code",
   "execution_count": null,
   "id": "39efa27e",
   "metadata": {},
   "outputs": [],
   "source": []
  },
  {
   "cell_type": "code",
   "execution_count": null,
   "id": "f3f26467",
   "metadata": {},
   "outputs": [],
   "source": [
    "# Int to string\n",
    "# Int to Float\n",
    "# Int to bool"
   ]
  },
  {
   "cell_type": "code",
   "execution_count": 51,
   "id": "35c7ca0e",
   "metadata": {},
   "outputs": [],
   "source": [
    "var1 = 0"
   ]
  },
  {
   "cell_type": "code",
   "execution_count": 52,
   "id": "d1fe39ee",
   "metadata": {},
   "outputs": [
    {
     "data": {
      "text/plain": [
       "False"
      ]
     },
     "execution_count": 52,
     "metadata": {},
     "output_type": "execute_result"
    }
   ],
   "source": [
    "bool(var1)"
   ]
  },
  {
   "cell_type": "code",
   "execution_count": null,
   "id": "c4f1e2fb",
   "metadata": {},
   "outputs": [],
   "source": []
  },
  {
   "cell_type": "code",
   "execution_count": null,
   "id": "002ae5b1",
   "metadata": {},
   "outputs": [],
   "source": [
    "# Float to Int\n",
    "# Flaot to String\n",
    "# Float to bool"
   ]
  },
  {
   "cell_type": "code",
   "execution_count": 55,
   "id": "3a9e07d4",
   "metadata": {},
   "outputs": [],
   "source": [
    " var = 22./7"
   ]
  },
  {
   "cell_type": "code",
   "execution_count": 70,
   "id": "2b69f1d3",
   "metadata": {},
   "outputs": [
    {
     "data": {
      "text/plain": [
       "True"
      ]
     },
     "execution_count": 70,
     "metadata": {},
     "output_type": "execute_result"
    }
   ],
   "source": [
    "bool(var)"
   ]
  },
  {
   "cell_type": "code",
   "execution_count": 74,
   "id": "f46c5656",
   "metadata": {},
   "outputs": [
    {
     "name": "stdout",
     "output_type": "stream",
     "text": [
      "Enter number one: 1\n",
      "Enter number two: 0\n"
     ]
    }
   ],
   "source": [
    "num1 =  bool(input(\"Enter number one: \")) \n",
    "num2 =  bool(input(\"Enter number two: \"))"
   ]
  },
  {
   "cell_type": "code",
   "execution_count": 75,
   "id": "f07ad236",
   "metadata": {},
   "outputs": [
    {
     "data": {
      "text/plain": [
       "bool"
      ]
     },
     "execution_count": 75,
     "metadata": {},
     "output_type": "execute_result"
    }
   ],
   "source": [
    "type(num1)"
   ]
  },
  {
   "cell_type": "code",
   "execution_count": 76,
   "id": "57bae8c4",
   "metadata": {},
   "outputs": [
    {
     "data": {
      "text/plain": [
       "bool"
      ]
     },
     "execution_count": 76,
     "metadata": {},
     "output_type": "execute_result"
    }
   ],
   "source": [
    "type(num2)"
   ]
  },
  {
   "cell_type": "code",
   "execution_count": 80,
   "id": "7dff39b1",
   "metadata": {},
   "outputs": [
    {
     "data": {
      "text/plain": [
       "0"
      ]
     },
     "execution_count": 80,
     "metadata": {},
     "output_type": "execute_result"
    }
   ],
   "source": [
    "num1-num2"
   ]
  },
  {
   "cell_type": "code",
   "execution_count": 85,
   "id": "ede391c1",
   "metadata": {},
   "outputs": [
    {
     "data": {
      "text/plain": [
       "3"
      ]
     },
     "execution_count": 85,
     "metadata": {},
     "output_type": "execute_result"
    }
   ],
   "source": [
    "Z"
   ]
  },
  {
   "cell_type": "code",
   "execution_count": null,
   "id": "4c0246ce",
   "metadata": {},
   "outputs": [],
   "source": []
  },
  {
   "cell_type": "markdown",
   "id": "226e04e5",
   "metadata": {},
   "source": [
    "### Operator"
   ]
  },
  {
   "cell_type": "code",
   "execution_count": 82,
   "id": "e71819c4",
   "metadata": {},
   "outputs": [
    {
     "data": {
      "text/plain": [
       "0"
      ]
     },
     "execution_count": 82,
     "metadata": {},
     "output_type": "execute_result"
    }
   ],
   "source": [
    " 12 // 24"
   ]
  },
  {
   "cell_type": "code",
   "execution_count": 109,
   "id": "0c4ce6bc",
   "metadata": {},
   "outputs": [
    {
     "data": {
      "text/plain": [
       "False"
      ]
     },
     "execution_count": 109,
     "metadata": {},
     "output_type": "execute_result"
    }
   ],
   "source": [
    "132 != 132.000"
   ]
  },
  {
   "cell_type": "code",
   "execution_count": 110,
   "id": "eb7d884c",
   "metadata": {},
   "outputs": [
    {
     "data": {
      "text/plain": [
       "11"
      ]
     },
     "execution_count": 110,
     "metadata": {},
     "output_type": "execute_result"
    }
   ],
   "source": [
    "23%12"
   ]
  },
  {
   "cell_type": "code",
   "execution_count": 111,
   "id": "d9d7828e",
   "metadata": {},
   "outputs": [
    {
     "data": {
      "text/plain": [
       "15625"
      ]
     },
     "execution_count": 111,
     "metadata": {},
     "output_type": "execute_result"
    }
   ],
   "source": [
    "5**6"
   ]
  },
  {
   "cell_type": "code",
   "execution_count": 113,
   "id": "380a41ef",
   "metadata": {},
   "outputs": [
    {
     "data": {
      "text/plain": [
       "str"
      ]
     },
     "execution_count": 113,
     "metadata": {},
     "output_type": "execute_result"
    }
   ],
   "source": [
    "type(str(int(17.3)))"
   ]
  },
  {
   "cell_type": "code",
   "execution_count": null,
   "id": "2f5c28bc",
   "metadata": {},
   "outputs": [],
   "source": []
  }
 ],
 "metadata": {
  "kernelspec": {
   "display_name": "Python 3",
   "language": "python",
   "name": "python3"
  },
  "language_info": {
   "codemirror_mode": {
    "name": "ipython",
    "version": 3
   },
   "file_extension": ".py",
   "mimetype": "text/x-python",
   "name": "python",
   "nbconvert_exporter": "python",
   "pygments_lexer": "ipython3",
   "version": "3.8.8"
  }
 },
 "nbformat": 4,
 "nbformat_minor": 5
}
