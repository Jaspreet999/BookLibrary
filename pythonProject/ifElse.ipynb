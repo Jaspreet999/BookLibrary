{
 "cells": [
  {
   "cell_type": "markdown",
   "id": "8ed65b8f",
   "metadata": {},
   "source": [
    "### If-else With pyhton"
   ]
  },
  {
   "cell_type": "code",
   "execution_count": 2,
   "id": "bd45130d",
   "metadata": {},
   "outputs": [
    {
     "name": "stdout",
     "output_type": "stream",
     "text": [
      "Please enter age : 34\n"
     ]
    }
   ],
   "source": [
    "age = int(input(\"Please enter age : \"))"
   ]
  },
  {
   "cell_type": "code",
   "execution_count": 3,
   "id": "94203c84",
   "metadata": {},
   "outputs": [
    {
     "data": {
      "text/plain": [
       "True"
      ]
     },
     "execution_count": 3,
     "metadata": {},
     "output_type": "execute_result"
    }
   ],
   "source": [
    "age>=18"
   ]
  },
  {
   "cell_type": "code",
   "execution_count": 4,
   "id": "60ff2b2f",
   "metadata": {},
   "outputs": [
    {
     "name": "stdout",
     "output_type": "stream",
     "text": [
      "You are eligible for job!\n"
     ]
    }
   ],
   "source": [
    "if (age<=0):\n",
    "    print(\"Please enter a valid age!\")\n",
    "    \n",
    "elif (age>=18 and age<=60):\n",
    "    print(\"You are eligible for job!\")\n",
    "    \n",
    "else:\n",
    "    print(\"You are not eligible for job\")\n",
    "    "
   ]
  },
  {
   "cell_type": "code",
   "execution_count": null,
   "id": "7aa40792",
   "metadata": {},
   "outputs": [],
   "source": []
  },
  {
   "cell_type": "code",
   "execution_count": 5,
   "id": "245c1998",
   "metadata": {},
   "outputs": [],
   "source": [
    "drinks = True\n",
    "maggie = False\n",
    "coffee = False\n",
    "water  = False\n",
    "burger = False"
   ]
  },
  {
   "cell_type": "code",
   "execution_count": 10,
   "id": "cfa1d9f5",
   "metadata": {},
   "outputs": [
    {
     "name": "stdout",
     "output_type": "stream",
     "text": [
      "Enjoy your drinks\n",
      "***********************************\n",
      "you've ordered 1 items\n"
     ]
    }
   ],
   "source": [
    "orders = 0\n",
    "\n",
    "if (drinks == True):\n",
    "    print('Enjoy your drinks')\n",
    "    orders +=1\n",
    "    \n",
    "if (maggie == True):\n",
    "    print('Enjoy your maggie')\n",
    "    orders +=1\n",
    "\n",
    "if (coffee == True):\n",
    "    print('Enjoy your coffee')\n",
    "    orders +=1\n",
    "    \n",
    "if (water == True):\n",
    "    print('Enjoy your water')\n",
    "    orders +=1\n",
    "    \n",
    "if (burger == True):\n",
    "    print('Enjoy your burger')\n",
    "    orders +=1\n",
    "    \n",
    "print(\"***********************************\")\n",
    "print(\"you've ordered\",orders,\"items\")    "
   ]
  },
  {
   "cell_type": "code",
   "execution_count": null,
   "id": "0f535693",
   "metadata": {},
   "outputs": [],
   "source": []
  }
 ],
 "metadata": {
  "kernelspec": {
   "display_name": "Python 3",
   "language": "python",
   "name": "python3"
  },
  "language_info": {
   "codemirror_mode": {
    "name": "ipython",
    "version": 3
   },
   "file_extension": ".py",
   "mimetype": "text/x-python",
   "name": "python",
   "nbconvert_exporter": "python",
   "pygments_lexer": "ipython3",
   "version": "3.8.8"
  }
 },
 "nbformat": 4,
 "nbformat_minor": 5
}
