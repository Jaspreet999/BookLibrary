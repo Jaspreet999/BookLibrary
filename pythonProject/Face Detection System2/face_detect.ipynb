{
 "cells": [
  {
   "cell_type": "code",
   "execution_count": 2,
   "id": "867155b5",
   "metadata": {},
   "outputs": [],
   "source": [
    "import cv2"
   ]
  },
  {
   "cell_type": "code",
   "execution_count": 3,
   "id": "deaa5a5d",
   "metadata": {},
   "outputs": [],
   "source": [
    "#get the help from the webcam to detect image\n",
    "cam = cv2.VideoCapture(0)\n",
    "\n",
    "cascPath = \"haarcascade_frontalface_default.xml\"\n",
    "\n",
    "faceCascade = cv2.CascadeClassifier(cascPath)"
   ]
  },
  {
   "cell_type": "code",
   "execution_count": null,
   "id": "2874e900",
   "metadata": {},
   "outputs": [],
   "source": [
    "# Read the image\n",
    "while True :\n",
    "    _, img  = cam.read()\n",
    "    gray = cv2.cvtColor(img,cv2.COLOR_BGR2GRAY)\n",
    "    \n",
    "    face = faceCascade.detectMultiScale(gray, 1.1, 5 )\n",
    "    \n",
    "    for(x,y,w,h) in face:\n",
    "        cv2.rectangle(img,(x,y),(x+w,y+h),(0,255,0),10)\n",
    "        \n",
    "    cv2.imshow('img',img)\n",
    "    k = cv2.waitKey(27) & 0xff\n",
    "    if k == 27:\n",
    "       break\n",
    "        \n",
    "cam.release()   "
   ]
  }
 ],
 "metadata": {
  "kernelspec": {
   "display_name": "Python 3",
   "language": "python",
   "name": "python3"
  },
  "language_info": {
   "codemirror_mode": {
    "name": "ipython",
    "version": 3
   },
   "file_extension": ".py",
   "mimetype": "text/x-python",
   "name": "python",
   "nbconvert_exporter": "python",
   "pygments_lexer": "ipython3",
   "version": "3.8.8"
  }
 },
 "nbformat": 4,
 "nbformat_minor": 5
}
