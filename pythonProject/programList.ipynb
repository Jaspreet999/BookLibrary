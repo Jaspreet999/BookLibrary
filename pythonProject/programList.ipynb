{
 "cells": [
  {
   "cell_type": "code",
   "execution_count": 1,
   "id": "ee631671",
   "metadata": {},
   "outputs": [],
   "source": [
    "lst = [1,23,34,46,57]"
   ]
  },
  {
   "cell_type": "code",
   "execution_count": 17,
   "id": "7158d017",
   "metadata": {},
   "outputs": [
    {
     "name": "stdout",
     "output_type": "stream",
     "text": [
      "161\n"
     ]
    }
   ],
   "source": [
    "sum = 0\n",
    "for i in (lst):\n",
    "    sum  = sum + i\n",
    "print(sum)    "
   ]
  },
  {
   "cell_type": "code",
   "execution_count": 19,
   "id": "8d5241fa",
   "metadata": {},
   "outputs": [
    {
     "data": {
      "text/plain": [
       "1"
      ]
     },
     "execution_count": 19,
     "metadata": {},
     "output_type": "execute_result"
    }
   ],
   "source": [
    "(min(lst))"
   ]
  },
  {
   "cell_type": "code",
   "execution_count": 20,
   "id": "f8faff19",
   "metadata": {},
   "outputs": [],
   "source": [
    "data = [['Rahul','Rohan','Rashmi'],\n",
    "         [82,89,78],\n",
    "         [65,56,66],\n",
    "         [67, 76, 77],\n",
    "         [88, 56, 65]]"
   ]
  },
  {
   "cell_type": "code",
   "execution_count": 30,
   "id": "b113c9c2",
   "metadata": {},
   "outputs": [
    {
     "data": {
      "text/plain": [
       "5"
      ]
     },
     "execution_count": 30,
     "metadata": {},
     "output_type": "execute_result"
    }
   ],
   "source": [
    "len(data)"
   ]
  },
  {
   "cell_type": "code",
   "execution_count": 33,
   "id": "af52517b",
   "metadata": {},
   "outputs": [
    {
     "name": "stdout",
     "output_type": "stream",
     "text": [
      "Rahul\n",
      "82\n",
      "65\n",
      "67\n",
      "88\n",
      "Rohan\n",
      "89\n",
      "56\n",
      "76\n",
      "56\n",
      "Rashmi\n",
      "78\n",
      "66\n",
      "77\n",
      "65\n"
     ]
    }
   ],
   "source": [
    "for j in range(len(data[0])):\n",
    "    for i in range(len(data)):\n",
    "        print(data[i][j])"
   ]
  },
  {
   "cell_type": "code",
   "execution_count": 35,
   "id": "ce22942b",
   "metadata": {},
   "outputs": [
    {
     "name": "stdout",
     "output_type": "stream",
     "text": [
      "['Rahul', 'Rohan', 'Rashmi']\n",
      "Rahul\n",
      "Rohan\n",
      "Rashmi\n",
      "[82, 89, 78]\n",
      "82\n",
      "89\n",
      "78\n",
      "[65, 56, 66]\n",
      "65\n",
      "56\n",
      "66\n",
      "[67, 76, 77]\n",
      "67\n",
      "76\n",
      "77\n",
      "[88, 56, 65]\n",
      "88\n",
      "56\n",
      "65\n"
     ]
    }
   ],
   "source": [
    "for i in data:\n",
    "    print(i)\n",
    "    for j in i :\n",
    "        print(j)"
   ]
  },
  {
   "cell_type": "code",
   "execution_count": 24,
   "id": "6694f75c",
   "metadata": {},
   "outputs": [
    {
     "data": {
      "text/plain": [
       "[67, 76, 77]"
      ]
     },
     "execution_count": 24,
     "metadata": {},
     "output_type": "execute_result"
    }
   ],
   "source": [
    "data[3]"
   ]
  },
  {
   "cell_type": "code",
   "execution_count": 25,
   "id": "51651cc0",
   "metadata": {},
   "outputs": [
    {
     "data": {
      "text/plain": [
       "[88, 56, 65]"
      ]
     },
     "execution_count": 25,
     "metadata": {},
     "output_type": "execute_result"
    }
   ],
   "source": [
    "data[4]"
   ]
  },
  {
   "cell_type": "code",
   "execution_count": null,
   "id": "09d52ff8",
   "metadata": {},
   "outputs": [],
   "source": []
  }
 ],
 "metadata": {
  "kernelspec": {
   "display_name": "Python 3",
   "language": "python",
   "name": "python3"
  },
  "language_info": {
   "codemirror_mode": {
    "name": "ipython",
    "version": 3
   },
   "file_extension": ".py",
   "mimetype": "text/x-python",
   "name": "python",
   "nbconvert_exporter": "python",
   "pygments_lexer": "ipython3",
   "version": "3.8.8"
  }
 },
 "nbformat": 4,
 "nbformat_minor": 5
}
