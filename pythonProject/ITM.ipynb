{
 "cells": [
  {
   "cell_type": "code",
   "execution_count": 95,
   "id": "8e222c3f",
   "metadata": {},
   "outputs": [],
   "source": [
    "with open(\"record.txt\",'r') as file:\n",
    "    txt = file.read()\n",
    "file.close()    "
   ]
  },
  {
   "cell_type": "code",
   "execution_count": 96,
   "id": "87b4077f",
   "metadata": {},
   "outputs": [
    {
     "data": {
      "text/plain": [
       "'1001,Coca cola,75,90\\n1002,Fruti,80,100\\n1003,RedBull,90,189\\n1004,Sting,60,250\\n1005,Appy Fizz,70,500\\n1006,cake,200,4'"
      ]
     },
     "execution_count": 96,
     "metadata": {},
     "output_type": "execute_result"
    }
   ],
   "source": [
    "txt"
   ]
  },
  {
   "cell_type": "code",
   "execution_count": 97,
   "id": "17aa9093",
   "metadata": {},
   "outputs": [
    {
     "name": "stdout",
     "output_type": "stream",
     "text": [
      "Enter the product id: 1001\n",
      "Enter the quantity of product: 10\n",
      "1001\n",
      "***********************\n",
      "Product ID:  1001\n",
      "Name:  Coca cola\n",
      "Price:  75\n",
      "Quant:  10\n",
      "------------------------\n",
      "Billing Amout:  750\n",
      "***********************\n",
      "Record Updated\n"
     ]
    }
   ],
   "source": [
    "def calculate_price(prod,quantity):\n",
    "    print(\"***********************\")\n",
    "    print(\"Product ID: \", prod[0])\n",
    "    print(\"Name: \", prod[1])\n",
    "    print(\"Price: \",prod[2])\n",
    "    print(\"Quant: \",quantity)\n",
    "    print(\"------------------------\")\n",
    "    print(\"Billing Amout: \", quantity * int(prod[2]))\n",
    "    print(\"***********************\")\n",
    "    \n",
    "def update_value_in_data(products,quantity):\n",
    "    new_record = []\n",
    "\n",
    "    file =  open(\"record.txt\",'w')\n",
    "\n",
    "    for product in products:\n",
    "        prod = product.split(\",\")\n",
    "    \n",
    "        if(ui_product == prod[0] and quantity_product <= int(prod[3])):\n",
    "            prod[3]  =str(int(prod[3]) - quantity_product)\n",
    "        \n",
    "        new_record.append(prod[0] +\",\"+ prod[1] +\",\" + prod[2] + \",\"+ prod[3] + \"\\n\")\n",
    "\n",
    "    \n",
    "\n",
    "    new_record[-1]  =  new_record[-1][:-1]\n",
    "    print(\"Record Updated\")\n",
    "    \n",
    "\n",
    "    for i in new_record:\n",
    "        file.write(i)\n",
    "    \n",
    "    file.close()    \n",
    "\n",
    "    \n",
    "\n",
    "products = txt.split(\"\\n\")\n",
    "\n",
    "ui_product       = input(\"Enter the product id: \")\n",
    "quantity_product = int(input(\"Enter the quantity of product: \"))\n",
    "\n",
    "\n",
    "for product in products:\n",
    "    prod = product.split(\",\")\n",
    "    \n",
    "    if(ui_product == prod[0] and quantity_product <= int(prod[3])):\n",
    "        print(ui_product)\n",
    "        calculate_price(prod,quantity_product)\n",
    "        update_value_in_data(products,quantity_product)\n",
    "        \n",
    "    elif (ui_product == prod[0]):\n",
    "          if(quantity_product> int(prod[3])):\n",
    "            print(\"we have only \",prod[3],\" itmes of \", prod[1])\n",
    "          \n",
    "\n"
   ]
  },
  {
   "cell_type": "code",
   "execution_count": null,
   "id": "f5eac919",
   "metadata": {},
   "outputs": [],
   "source": []
  }
 ],
 "metadata": {
  "kernelspec": {
   "display_name": "Python 3",
   "language": "python",
   "name": "python3"
  },
  "language_info": {
   "codemirror_mode": {
    "name": "ipython",
    "version": 3
   },
   "file_extension": ".py",
   "mimetype": "text/x-python",
   "name": "python",
   "nbconvert_exporter": "python",
   "pygments_lexer": "ipython3",
   "version": "3.8.8"
  }
 },
 "nbformat": 4,
 "nbformat_minor": 5
}
