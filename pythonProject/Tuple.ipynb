{
 "cells": [
  {
   "cell_type": "code",
   "execution_count": 3,
   "id": "eda310b2",
   "metadata": {},
   "outputs": [],
   "source": [
    "lst = [12,14,23,22,12,1]"
   ]
  },
  {
   "cell_type": "code",
   "execution_count": 4,
   "id": "5a8661db",
   "metadata": {},
   "outputs": [],
   "source": [
    "lst[0] = 34"
   ]
  },
  {
   "cell_type": "code",
   "execution_count": 5,
   "id": "10d51e0c",
   "metadata": {},
   "outputs": [
    {
     "data": {
      "text/plain": [
       "[34, 14, 23, 22, 12, 1]"
      ]
     },
     "execution_count": 5,
     "metadata": {},
     "output_type": "execute_result"
    }
   ],
   "source": [
    "lst"
   ]
  },
  {
   "cell_type": "code",
   "execution_count": 6,
   "id": "65b533f7",
   "metadata": {},
   "outputs": [],
   "source": [
    "tpl = (12,13,23)"
   ]
  },
  {
   "cell_type": "code",
   "execution_count": 7,
   "id": "1ef4ceb3",
   "metadata": {},
   "outputs": [
    {
     "data": {
      "text/plain": [
       "(34, 14, 23, 22, 12, 1)"
      ]
     },
     "execution_count": 7,
     "metadata": {},
     "output_type": "execute_result"
    }
   ],
   "source": [
    "tuple(lst)"
   ]
  },
  {
   "cell_type": "code",
   "execution_count": 8,
   "id": "f8ec5519",
   "metadata": {},
   "outputs": [],
   "source": [
    "sets = {23,23,11,22,11}"
   ]
  },
  {
   "cell_type": "code",
   "execution_count": 9,
   "id": "cffc6e68",
   "metadata": {},
   "outputs": [
    {
     "data": {
      "text/plain": [
       "{1, 12, 14, 22, 23, 34}"
      ]
     },
     "execution_count": 9,
     "metadata": {},
     "output_type": "execute_result"
    }
   ],
   "source": [
    "st=set(lst)\n",
    "st"
   ]
  },
  {
   "cell_type": "code",
   "execution_count": 10,
   "id": "a9d00a26",
   "metadata": {},
   "outputs": [
    {
     "data": {
      "text/plain": [
       "[1, 34, 12, 14, 22, 23]"
      ]
     },
     "execution_count": 10,
     "metadata": {},
     "output_type": "execute_result"
    }
   ],
   "source": [
    "data=list(st)\n",
    "data"
   ]
  },
  {
   "cell_type": "code",
   "execution_count": 11,
   "id": "1b35cb00",
   "metadata": {},
   "outputs": [
    {
     "name": "stdout",
     "output_type": "stream",
     "text": [
      "1\n",
      "34\n",
      "12\n",
      "yes 12 found\n"
     ]
    }
   ],
   "source": [
    "for i in data:\n",
    "    print(i)\n",
    "    if i == 12:\n",
    "        print(\"yes 12 found\")\n",
    "        break"
   ]
  },
  {
   "cell_type": "code",
   "execution_count": 35,
   "id": "209c55ef",
   "metadata": {},
   "outputs": [],
   "source": [
    "tuple1 =  ((\"Raja\",3),(\"jass\" , \"preet\"),(\"Pinder\",5))\n",
    "tuple2 = tuple1"
   ]
  },
  {
   "cell_type": "code",
   "execution_count": 36,
   "id": "f871bc27",
   "metadata": {},
   "outputs": [
    {
     "data": {
      "text/plain": [
       "[('Pinder', 5), ('Raja', 3), ('jass', 'preet')]"
      ]
     },
     "execution_count": 36,
     "metadata": {},
     "output_type": "execute_result"
    }
   ],
   "source": [
    "sorted(tuple1)"
   ]
  },
  {
   "cell_type": "code",
   "execution_count": 37,
   "id": "31364b0a",
   "metadata": {},
   "outputs": [],
   "source": [
    "tuple2 = tuple2 + (\"jaga\",5)"
   ]
  },
  {
   "cell_type": "code",
   "execution_count": 38,
   "id": "5282d60a",
   "metadata": {},
   "outputs": [
    {
     "data": {
      "text/plain": [
       "(('Raja', 3), ('jass', 'preet'), ('Pinder', 5))"
      ]
     },
     "execution_count": 38,
     "metadata": {},
     "output_type": "execute_result"
    }
   ],
   "source": [
    "tuple1"
   ]
  },
  {
   "cell_type": "code",
   "execution_count": 39,
   "id": "269beec2",
   "metadata": {},
   "outputs": [
    {
     "data": {
      "text/plain": [
       "(('Raja', 3), ('jass', 'preet'), ('Pinder', 5), 'jaga', 5)"
      ]
     },
     "execution_count": 39,
     "metadata": {},
     "output_type": "execute_result"
    }
   ],
   "source": [
    "tuple2"
   ]
  },
  {
   "cell_type": "code",
   "execution_count": null,
   "id": "676e5670",
   "metadata": {},
   "outputs": [],
   "source": []
  }
 ],
 "metadata": {
  "kernelspec": {
   "display_name": "Python 3",
   "language": "python",
   "name": "python3"
  },
  "language_info": {
   "codemirror_mode": {
    "name": "ipython",
    "version": 3
   },
   "file_extension": ".py",
   "mimetype": "text/x-python",
   "name": "python",
   "nbconvert_exporter": "python",
   "pygments_lexer": "ipython3",
   "version": "3.8.8"
  }
 },
 "nbformat": 4,
 "nbformat_minor": 5
}
