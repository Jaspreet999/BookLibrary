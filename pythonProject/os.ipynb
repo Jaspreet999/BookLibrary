{
 "cells": [
  {
   "cell_type": "code",
   "execution_count": null,
   "id": "8c8f1a44",
   "metadata": {},
   "outputs": [],
   "source": [
    "import os"
   ]
  },
  {
   "cell_type": "code",
   "execution_count": null,
   "id": "f545a1db",
   "metadata": {},
   "outputs": [],
   "source": [
    "dir(os)"
   ]
  },
  {
   "cell_type": "code",
   "execution_count": null,
   "id": "f7f53f7c",
   "metadata": {},
   "outputs": [],
   "source": [
    "dirs = os.listdir('/Users\\jaspreet singh\\pythonProject')"
   ]
  },
  {
   "cell_type": "code",
   "execution_count": null,
   "id": "e2f529fd",
   "metadata": {},
   "outputs": [],
   "source": [
    "for i in dirs:\n",
    "    if(i[-5:] == 'ipynb'):\n",
    "        print(i)\n",
    "    \n"
   ]
  },
  {
   "cell_type": "code",
   "execution_count": null,
   "id": "92a9c818",
   "metadata": {},
   "outputs": [],
   "source": [
    " !mv ITM.ipynb test/ITM.ipynb"
   ]
  },
  {
   "cell_type": "code",
   "execution_count": null,
   "id": "19e1d504",
   "metadata": {},
   "outputs": [],
   "source": [
    "help(os)"
   ]
  },
  {
   "cell_type": "code",
   "execution_count": null,
   "id": "03a7f0c0",
   "metadata": {},
   "outputs": [],
   "source": [
    "# Enter your code here. Read input from STDIN. Print output to STDOUT\n",
    "sizes = str(input()).split(\" \")\n",
    "lists = str(input()).split(\" \")\n",
    "lists = list(map(int,lists))\n",
    "\n",
    "setA = str(input()).split(\" \")\n",
    "setA=set(map(int,setA))\n",
    "print(setA)\n",
    "\n",
    "setB = str(input()).split(\" \")\n",
    "setB = set(map(int,setB))\n",
    "print(setB)\n",
    "score = 0\n",
    "for i in range(int(len(lists))):\n",
    "    print(lists[i])\n",
    "    if lists[i] in setA:\n",
    "        score +=1\n",
    "    \n",
    "    elif lists[i] in setB:\n",
    "        score -=1\n",
    "        \n",
    "        \n",
    "\n",
    "print(score)\n"
   ]
  },
  {
   "cell_type": "code",
   "execution_count": 1,
   "id": "c816302e",
   "metadata": {},
   "outputs": [
    {
     "name": "stderr",
     "output_type": "stream",
     "text": [
      "ERROR: unknown command \"instal\" - maybe you meant \"install\"\n",
      "\n"
     ]
    }
   ],
   "source": [
    "!pip instal numpy"
   ]
  },
  {
   "cell_type": "code",
   "execution_count": 2,
   "id": "f4ab0a1c",
   "metadata": {},
   "outputs": [],
   "source": [
    "lst = [1,2,3,4,5,6]\n"
   ]
  },
  {
   "cell_type": "code",
   "execution_count": 3,
   "id": "07f6f669",
   "metadata": {},
   "outputs": [
    {
     "data": {
      "text/plain": [
       "0"
      ]
     },
     "execution_count": 3,
     "metadata": {},
     "output_type": "execute_result"
    }
   ],
   "source": [
    "lst.count(9)"
   ]
  },
  {
   "cell_type": "code",
   "execution_count": 1,
   "id": "07d91afb",
   "metadata": {},
   "outputs": [],
   "source": [
    "strs = 'HackerRank 2'"
   ]
  },
  {
   "cell_type": "code",
   "execution_count": 9,
   "id": "26f4bde7",
   "metadata": {},
   "outputs": [
    {
     "data": {
      "text/plain": [
       "False"
      ]
     },
     "execution_count": 9,
     "metadata": {},
     "output_type": "execute_result"
    }
   ],
   "source": [
    "strs[-2].islower()"
   ]
  },
  {
   "cell_type": "code",
   "execution_count": 29,
   "id": "c7852b01",
   "metadata": {},
   "outputs": [
    {
     "name": "stdout",
     "output_type": "stream",
     "text": [
      "----x----\n",
      "\n",
      "---xxx---\n",
      "\n",
      "--xxxxx--\n",
      "\n",
      "-xxxxxxx-\n",
      "\n",
      "xxxxxxxxx\n",
      "\n",
      "-xxxxxxx-\n",
      "\n",
      "--xxxxx--\n",
      "\n",
      "---xxx---\n",
      "\n",
      "----x----\n",
      "\n"
     ]
    }
   ],
   "source": [
    "for i in range(1,5+1):\n",
    "    space = 5- i \n",
    "    star = 5 - space + i\n",
    "    total = space + star\n",
    "    for j in range(1,space+1):\n",
    "        print(\"-\",end = \"\")\n",
    "    for k in range(1,star):\n",
    "        print('x',end = \"\")   \n",
    "    for t in range(total,10):\n",
    "        print(\"-\",end = \"\")\n",
    "    print(\"\\n\")\n",
    "\n",
    "        \n",
    "    \n",
    "for i in range(1,5):\n",
    "    space = i+1\n",
    "    star =star - 2\n",
    "    total = star + i\n",
    "    for j in range(1,space):\n",
    "        print(\"-\",end = \"\")\n",
    "    for k in range(1,star):\n",
    "        print('x',end = \"\")   \n",
    "    for t in range(total,10):\n",
    "        print(\"-\",end = \"\")\n",
    "    print(\"\\n\")    \n",
    "    \n",
    "\n",
    "    \n",
    "    \n",
    "    \n",
    "        \n",
    "        "
   ]
  },
  {
   "cell_type": "code",
   "execution_count": 11,
   "id": "aa193e90",
   "metadata": {},
   "outputs": [
    {
     "name": "stdout",
     "output_type": "stream",
     "text": [
      "hACKERrANK 2\n"
     ]
    }
   ],
   "source": [
    "print(result)"
   ]
  },
  {
   "cell_type": "code",
   "execution_count": 52,
   "id": "27b8fb40",
   "metadata": {},
   "outputs": [
    {
     "name": "stdout",
     "output_type": "stream",
     "text": [
      "----*----\n",
      "---***---\n",
      "--*****--\n",
      "-*******-\n",
      "*********\n",
      "-*******-\n",
      "--*****--\n",
      "---***---\n",
      "----*----\n"
     ]
    }
   ],
   "source": [
    "for i in range(1,9,2):\n",
    "    print((i*(\"*\")).center(9,\"-\"))\n",
    "print(9*\"*\") \n",
    "for i in range(7,-1,-2):\n",
    "    print((i*(\"*\")).center(9,\"-\"))"
   ]
  },
  {
   "cell_type": "code",
   "execution_count": 54,
   "id": "713e6ed4",
   "metadata": {},
   "outputs": [
    {
     "name": "stdout",
     "output_type": "stream",
     "text": [
      "jaspreet----\n"
     ]
    }
   ],
   "source": [
    "print(\"jaspreet\".ljust(12,\"-\"))"
   ]
  },
  {
   "cell_type": "code",
   "execution_count": 71,
   "id": "e5e54a71",
   "metadata": {},
   "outputs": [
    {
     "data": {
      "text/plain": [
       "'1'"
      ]
     },
     "execution_count": 71,
     "metadata": {},
     "output_type": "execute_result"
    }
   ],
   "source": [
    "hex(1)[2:].upper()"
   ]
  },
  {
   "cell_type": "code",
   "execution_count": 70,
   "id": "1a952a14",
   "metadata": {},
   "outputs": [
    {
     "data": {
      "text/plain": [
       "'7'"
      ]
     },
     "execution_count": 70,
     "metadata": {},
     "output_type": "execute_result"
    }
   ],
   "source": [
    "oct(7)[2:].upper()"
   ]
  },
  {
   "cell_type": "code",
   "execution_count": 75,
   "id": "8b0c8725",
   "metadata": {},
   "outputs": [
    {
     "data": {
      "text/plain": [
       "'10000'"
      ]
     },
     "execution_count": 75,
     "metadata": {},
     "output_type": "execute_result"
    }
   ],
   "source": [
    "bin(16)[2:]"
   ]
  },
  {
   "cell_type": "code",
   "execution_count": 10,
   "id": "7ef3f8d4",
   "metadata": {},
   "outputs": [
    {
     "name": "stdout",
     "output_type": "stream",
     "text": [
      "1 ----1 ----1 ----1\n",
      "2 ----2 ----2 ---10\n",
      "3 ----3 ----3 ---11\n",
      "4 ----4 ----4 --100\n",
      "5 ----5 ----5 --101\n",
      "6 ----6 ----6 --110\n",
      "7 ----7 ----7 --111\n",
      "8 ---10 ----8 -1000\n",
      "9 ---11 ----9 -1001\n",
      "10 ---12 ----A -1010\n",
      "11 ---13 ----B -1011\n",
      "12 ---14 ----C -1100\n",
      "13 ---15 ----D -1101\n",
      "14 ---16 ----E -1110\n",
      "15 ---17 ----F -1111\n",
      "16 ---20 ---10 10000\n",
      "17 ---21 ---11 10001\n"
     ]
    }
   ],
   "source": [
    "w = len(str(bin(17)[2:]))\n",
    "for i in range(1,17+1):\n",
    "    n  = str(i).rjust(w,\"-\")\n",
    "    o = (oct(i)[2:].upper()).rjust(w,\"-\")\n",
    "    h = (hex(i)[2:].upper()).rjust(w,\"-\")\n",
    "    b = (bin(i)[2:].upper()).rjust(w,\"-\")\n",
    "    print(i,o,h,b)"
   ]
  },
  {
   "cell_type": "code",
   "execution_count": 44,
   "id": "48e8664f",
   "metadata": {},
   "outputs": [
    {
     "name": "stdout",
     "output_type": "stream",
     "text": [
      "07:01:00\n"
     ]
    }
   ],
   "source": [
    "s = '07:01:00AM'\n",
    "s = list(s)\n",
    "\n",
    "if (\"\".join(s[8:])) == 'AM':\n",
    "    \n",
    "    if \"\".join(s[:2]) == '12':\n",
    "        s[0] = '0' \n",
    "        s[1] = '0'\n",
    "        s= \"\".join(s)\n",
    "        print(s[:8])\n",
    "        \n",
    "    else:\n",
    "        s= \"\".join(s)\n",
    "        print(s[:8])\n",
    "        \n",
    "else:\n",
    "    \n",
    "    if \"\".join(s[:2]) == '12':\n",
    "        s= \"\".join(s)\n",
    "        print(s[:8])\n",
    "        \n",
    "    else:\n",
    "        temp = int(\"\".join(s[:2]))\n",
    "        temp += 12\n",
    "        temp = str(temp)\n",
    "        temp = list(temp)\n",
    "        s[0] = temp[0]\n",
    "        s[1] = temp[1]\n",
    "        \n",
    "        s= \"\".join(s)\n",
    "        print(s[:8])\n",
    "    \n",
    "    \n",
    "        \n",
    "         "
   ]
  },
  {
   "cell_type": "code",
   "execution_count": null,
   "id": "f53e86b2",
   "metadata": {},
   "outputs": [],
   "source": [
    "a = input(\"Enter number\")\n",
    "a = int(a)\n",
    "if (a==1 or a==2 or a==3 or a==5 or a==7 or a==11):\n",
    "    print(\"Number is prim\")\n",
    "elif(a%2!=0 and a%3!=0 and a%5!=0 and a%7!=0 and a%11!=0):\n",
    "    print(\"Number is prim\")\n",
    "else :\n",
    "    print(\"Number is not prim\")"
   ]
  },
  {
   "cell_type": "code",
   "execution_count": null,
   "id": "eda613dd",
   "metadata": {},
   "outputs": [],
   "source": []
  },
  {
   "cell_type": "code",
   "execution_count": null,
   "id": "b77e9301",
   "metadata": {},
   "outputs": [],
   "source": []
  }
 ],
 "metadata": {
  "kernelspec": {
   "display_name": "Python 3",
   "language": "python",
   "name": "python3"
  },
  "language_info": {
   "codemirror_mode": {
    "name": "ipython",
    "version": 3
   },
   "file_extension": ".py",
   "mimetype": "text/x-python",
   "name": "python",
   "nbconvert_exporter": "python",
   "pygments_lexer": "ipython3",
   "version": "3.8.8"
  }
 },
 "nbformat": 4,
 "nbformat_minor": 5
}
