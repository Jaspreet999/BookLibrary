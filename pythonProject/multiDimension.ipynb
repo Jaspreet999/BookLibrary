{
 "cells": [
  {
   "cell_type": "code",
   "execution_count": 20,
   "id": "b6b8c9ba",
   "metadata": {},
   "outputs": [],
   "source": [
    "\n",
    "lst = [[\"2319006\",\"A\"],\n",
    "       [\"2319007\",\"B\"],\n",
    "       [\"2319008\",\"C\"],]"
   ]
  },
  {
   "cell_type": "code",
   "execution_count": 21,
   "id": "76f69f53",
   "metadata": {},
   "outputs": [
    {
     "data": {
      "text/plain": [
       "['2319006', 'A']"
      ]
     },
     "execution_count": 21,
     "metadata": {},
     "output_type": "execute_result"
    }
   ],
   "source": [
    "lst[0]"
   ]
  },
  {
   "cell_type": "code",
   "execution_count": 22,
   "id": "01b53c69",
   "metadata": {},
   "outputs": [
    {
     "data": {
      "text/plain": [
       "['2319007', 'B']"
      ]
     },
     "execution_count": 22,
     "metadata": {},
     "output_type": "execute_result"
    }
   ],
   "source": [
    "lst[1]"
   ]
  },
  {
   "cell_type": "code",
   "execution_count": 23,
   "id": "4c9571ad",
   "metadata": {},
   "outputs": [
    {
     "data": {
      "text/plain": [
       "['2319008', 'C']"
      ]
     },
     "execution_count": 23,
     "metadata": {},
     "output_type": "execute_result"
    }
   ],
   "source": [
    "lst[2]"
   ]
  },
  {
   "cell_type": "code",
   "execution_count": 24,
   "id": "b0f70bf6",
   "metadata": {},
   "outputs": [
    {
     "name": "stdout",
     "output_type": "stream",
     "text": [
      "2319006\n",
      "2319007\n",
      "2319008\n"
     ]
    }
   ],
   "source": [
    "for i in lst:\n",
    "    print(i[0])"
   ]
  },
  {
   "cell_type": "code",
   "execution_count": null,
   "id": "5044a382",
   "metadata": {},
   "outputs": [],
   "source": []
  },
  {
   "cell_type": "code",
   "execution_count": 32,
   "id": "1a887e9a",
   "metadata": {},
   "outputs": [],
   "source": [
    "lst1  =  [[[1,2,3,4],[5,6,7,8,9],[10,11,12,13],[14,15,16,17]],\n",
    "           [[1,2,3,4],[5,6,7,8,9],[10,11,12,13],[14,15,16,17]],\n",
    "          [[1,2,3,4],[5,6,7,8,9],[10,11,12,13],[14,15,16,17]],\n",
    "          [[1,2,3,4],[5,6,7,8,9],[10,11,12,13],[14,15,16,17]],\n",
    "          ]"
   ]
  },
  {
   "cell_type": "code",
   "execution_count": 34,
   "id": "d597cfd4",
   "metadata": {},
   "outputs": [
    {
     "data": {
      "text/plain": [
       "2"
      ]
     },
     "execution_count": 34,
     "metadata": {},
     "output_type": "execute_result"
    }
   ],
   "source": [
    "lst1[0][0][1]"
   ]
  },
  {
   "cell_type": "code",
   "execution_count": 42,
   "id": "fb2e9465",
   "metadata": {},
   "outputs": [
    {
     "ename": "NameError",
     "evalue": "name 'enumeration' is not defined",
     "output_type": "error",
     "traceback": [
      "\u001b[1;31m---------------------------------------------------------------------------\u001b[0m",
      "\u001b[1;31mNameError\u001b[0m                                 Traceback (most recent call last)",
      "\u001b[1;32m<ipython-input-42-d92f8d35de41>\u001b[0m in \u001b[0;36m<module>\u001b[1;34m\u001b[0m\n\u001b[0;32m      6\u001b[0m \u001b[1;33m\u001b[0m\u001b[0m\n\u001b[0;32m      7\u001b[0m \u001b[0malbum_rating\u001b[0m \u001b[1;33m=\u001b[0m \u001b[1;33m[\u001b[0m\u001b[1;36m10.0\u001b[0m\u001b[1;33m,\u001b[0m\u001b[1;36m8.5\u001b[0m\u001b[1;33m,\u001b[0m\u001b[1;36m7.2\u001b[0m\u001b[1;33m]\u001b[0m\u001b[1;33m\u001b[0m\u001b[1;33m\u001b[0m\u001b[0m\n\u001b[1;32m----> 8\u001b[1;33m \u001b[0mrating\u001b[0m\u001b[1;33m(\u001b[0m\u001b[0malbum_rating\u001b[0m\u001b[1;33m)\u001b[0m\u001b[1;33m\u001b[0m\u001b[1;33m\u001b[0m\u001b[0m\n\u001b[0m",
      "\u001b[1;32m<ipython-input-42-d92f8d35de41>\u001b[0m in \u001b[0;36mrating\u001b[1;34m(stuff)\u001b[0m\n\u001b[0;32m      1\u001b[0m \u001b[1;32mdef\u001b[0m \u001b[0mrating\u001b[0m\u001b[1;33m(\u001b[0m\u001b[0mstuff\u001b[0m\u001b[1;33m)\u001b[0m\u001b[1;33m:\u001b[0m\u001b[1;33m\u001b[0m\u001b[1;33m\u001b[0m\u001b[0m\n\u001b[0;32m      2\u001b[0m \u001b[1;33m\u001b[0m\u001b[0m\n\u001b[1;32m----> 3\u001b[1;33m     \u001b[1;32mfor\u001b[0m \u001b[0mi\u001b[0m\u001b[1;33m,\u001b[0m\u001b[0ms\u001b[0m \u001b[1;32min\u001b[0m \u001b[0menumeration\u001b[0m\u001b[1;33m(\u001b[0m\u001b[0mstuff\u001b[0m\u001b[1;33m)\u001b[0m\u001b[1;33m:\u001b[0m\u001b[1;33m\u001b[0m\u001b[1;33m\u001b[0m\u001b[0m\n\u001b[0m\u001b[0;32m      4\u001b[0m         \u001b[0mprint\u001b[0m\u001b[1;33m(\u001b[0m\u001b[0mi\u001b[0m\u001b[1;33m,\u001b[0m\u001b[1;34m\"have rating\"\u001b[0m\u001b[1;33m,\u001b[0m\u001b[0ms\u001b[0m\u001b[1;33m)\u001b[0m\u001b[1;33m\u001b[0m\u001b[1;33m\u001b[0m\u001b[0m\n\u001b[0;32m      5\u001b[0m \u001b[1;33m\u001b[0m\u001b[0m\n",
      "\u001b[1;31mNameError\u001b[0m: name 'enumeration' is not defined"
     ]
    }
   ],
   "source": [
    "def rating(stuff):\n",
    "    \n",
    "    for i,s in enumeration(stuff):\n",
    "        print(i,\"have rating\",s)\n",
    "    \n",
    "\n",
    "album_rating = [10.0,8.5,7.2]\n",
    "rating(album_rating)"
   ]
  },
  {
   "cell_type": "code",
   "execution_count": null,
   "id": "44711ce5",
   "metadata": {},
   "outputs": [],
   "source": []
  }
 ],
 "metadata": {
  "kernelspec": {
   "display_name": "Python 3",
   "language": "python",
   "name": "python3"
  },
  "language_info": {
   "codemirror_mode": {
    "name": "ipython",
    "version": 3
   },
   "file_extension": ".py",
   "mimetype": "text/x-python",
   "name": "python",
   "nbconvert_exporter": "python",
   "pygments_lexer": "ipython3",
   "version": "3.8.8"
  }
 },
 "nbformat": 4,
 "nbformat_minor": 5
}
