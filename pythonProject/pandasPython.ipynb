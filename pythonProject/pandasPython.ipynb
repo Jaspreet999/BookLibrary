{
 "cells": [
  {
   "cell_type": "code",
   "execution_count": 5,
   "id": "a6164a24",
   "metadata": {},
   "outputs": [],
   "source": [
    "import pandas as pd"
   ]
  },
  {
   "cell_type": "code",
   "execution_count": 6,
   "id": "524daba4",
   "metadata": {},
   "outputs": [
    {
     "name": "stdout",
     "output_type": "stream",
     "text": [
      "Help on package pandas:\n",
      "\n",
      "NAME\n",
      "    pandas\n",
      "\n",
      "DESCRIPTION\n",
      "    pandas - a powerful data analysis and manipulation library for Python\n",
      "    =====================================================================\n",
      "    \n",
      "    **pandas** is a Python package providing fast, flexible, and expressive data\n",
      "    structures designed to make working with \"relational\" or \"labeled\" data both\n",
      "    easy and intuitive. It aims to be the fundamental high-level building block for\n",
      "    doing practical, **real world** data analysis in Python. Additionally, it has\n",
      "    the broader goal of becoming **the most powerful and flexible open source data\n",
      "    analysis / manipulation tool available in any language**. It is already well on\n",
      "    its way toward this goal.\n",
      "    \n",
      "    Main Features\n",
      "    -------------\n",
      "    Here are just a few of the things that pandas does well:\n",
      "    \n",
      "      - Easy handling of missing data in floating point as well as non-floating\n",
      "        point data.\n",
      "      - Size mutability: columns can be inserted and deleted from DataFrame and\n",
      "        higher dimensional objects\n",
      "      - Automatic and explicit data alignment: objects can be explicitly aligned\n",
      "        to a set of labels, or the user can simply ignore the labels and let\n",
      "        `Series`, `DataFrame`, etc. automatically align the data for you in\n",
      "        computations.\n",
      "      - Powerful, flexible group by functionality to perform split-apply-combine\n",
      "        operations on data sets, for both aggregating and transforming data.\n",
      "      - Make it easy to convert ragged, differently-indexed data in other Python\n",
      "        and NumPy data structures into DataFrame objects.\n",
      "      - Intelligent label-based slicing, fancy indexing, and subsetting of large\n",
      "        data sets.\n",
      "      - Intuitive merging and joining data sets.\n",
      "      - Flexible reshaping and pivoting of data sets.\n",
      "      - Hierarchical labeling of axes (possible to have multiple labels per tick).\n",
      "      - Robust IO tools for loading data from flat files (CSV and delimited),\n",
      "        Excel files, databases, and saving/loading data from the ultrafast HDF5\n",
      "        format.\n",
      "      - Time series-specific functionality: date range generation and frequency\n",
      "        conversion, moving window statistics, date shifting and lagging.\n",
      "\n",
      "PACKAGE CONTENTS\n",
      "    _config (package)\n",
      "    _libs (package)\n",
      "    _testing\n",
      "    _typing\n",
      "    _version\n",
      "    api (package)\n",
      "    arrays (package)\n",
      "    compat (package)\n",
      "    conftest\n",
      "    core (package)\n",
      "    errors (package)\n",
      "    io (package)\n",
      "    plotting (package)\n",
      "    testing\n",
      "    tests (package)\n",
      "    tseries (package)\n",
      "    util (package)\n",
      "\n",
      "SUBMODULES\n",
      "    _hashtable\n",
      "    _lib\n",
      "    _tslib\n",
      "    offsets\n",
      "\n",
      "FUNCTIONS\n",
      "    __getattr__(name)\n",
      "        # GH 27101\n",
      "\n",
      "DATA\n",
      "    IndexSlice = <pandas.core.indexing._IndexSlice object>\n",
      "    NA = <NA>\n",
      "    NaT = NaT\n",
      "    __docformat__ = 'restructuredtext'\n",
      "    __git_version__ = '2cb96529396d93b46abab7bbc73a208e708c642e'\n",
      "    describe_option = <pandas._config.config.CallableDynamicDoc object>\n",
      "    get_option = <pandas._config.config.CallableDynamicDoc object>\n",
      "    options = <pandas._config.config.DictWrapper object>\n",
      "    reset_option = <pandas._config.config.CallableDynamicDoc object>\n",
      "    set_option = <pandas._config.config.CallableDynamicDoc object>\n",
      "\n",
      "VERSION\n",
      "    1.2.4\n",
      "\n",
      "FILE\n",
      "    c:\\users\\jaspreet singh\\anaconda3\\lib\\site-packages\\pandas\\__init__.py\n",
      "\n",
      "\n"
     ]
    }
   ],
   "source": [
    "help(pandas)"
   ]
  },
  {
   "cell_type": "code",
   "execution_count": 92,
   "id": "baad9ae7",
   "metadata": {},
   "outputs": [],
   "source": [
    "songs = {\n",
    "      \n",
    "    'Album':[\"Thriller\",\"Back in back\",\"Moonchildrea\",\"Moostape\"],\n",
    "    'Released' : [1989,1980,2021,2021],\n",
    "    'length' : ['00:42:45','00:40:30','00:27:55','1:00:40'],\n",
    "    'Artist' : [\"Justin Bieber\",\"Sherlin\",\"Diljit Dosanjh\",\"Sidhu\"],\n",
    "    \n",
    "}"
   ]
  },
  {
   "cell_type": "code",
   "execution_count": 93,
   "id": "5010bc09",
   "metadata": {},
   "outputs": [],
   "source": [
    "df = pd.DataFrame(songs)"
   ]
  },
  {
   "cell_type": "code",
   "execution_count": 94,
   "id": "247f732d",
   "metadata": {},
   "outputs": [
    {
     "name": "stdout",
     "output_type": "stream",
     "text": [
      "          Album  Released    length          Artist\n",
      "0      Thriller      1989  00:42:45   Justin Bieber\n",
      "1  Back in back      1980  00:40:30         Sherlin\n",
      "2  Moonchildrea      2021  00:27:55  Diljit Dosanjh\n",
      "3      Moostape      2021   1:00:40           Sidhu\n"
     ]
    }
   ],
   "source": [
    "print(df)"
   ]
  },
  {
   "cell_type": "code",
   "execution_count": 95,
   "id": "00ab5dd8",
   "metadata": {},
   "outputs": [
    {
     "name": "stdout",
     "output_type": "stream",
     "text": [
      "          Album  Released    length          Artist\n",
      "0      Thriller      1989  00:42:45   Justin Bieber\n",
      "1  Back in back      1980  00:40:30         Sherlin\n",
      "2  Moonchildrea      2021  00:27:55  Diljit Dosanjh\n",
      "3      Moostape      2021   1:00:40           Sidhu\n"
     ]
    }
   ],
   "source": [
    "print(df.head())"
   ]
  },
  {
   "cell_type": "code",
   "execution_count": 96,
   "id": "f22dbdf3",
   "metadata": {},
   "outputs": [
    {
     "name": "stdout",
     "output_type": "stream",
     "text": [
      "   Released          Artist\n",
      "0      1989   Justin Bieber\n",
      "1      1980         Sherlin\n",
      "2      2021  Diljit Dosanjh\n",
      "3      2021           Sidhu\n"
     ]
    }
   ],
   "source": [
    "print(df[['Released','Artist']])"
   ]
  },
  {
   "cell_type": "code",
   "execution_count": 97,
   "id": "1b923db7",
   "metadata": {},
   "outputs": [
    {
     "name": "stdout",
     "output_type": "stream",
     "text": [
      "      Album  Released    length         Artist\n",
      "0  Thriller      1989  00:42:45  Justin Bieber\n"
     ]
    }
   ],
   "source": [
    "print(df.loc[[0]])"
   ]
  },
  {
   "cell_type": "code",
   "execution_count": 98,
   "id": "0e7f30dd",
   "metadata": {},
   "outputs": [
    {
     "name": "stdout",
     "output_type": "stream",
     "text": [
      "   Released    length          Artist\n",
      "0      1989  00:42:45   Justin Bieber\n",
      "1      1980  00:40:30         Sherlin\n",
      "2      2021  00:27:55  Diljit Dosanjh\n"
     ]
    }
   ],
   "source": [
    "print(df.loc[0:2,'Released':'Artist'])"
   ]
  },
  {
   "cell_type": "code",
   "execution_count": 99,
   "id": "4af85cdc",
   "metadata": {},
   "outputs": [
    {
     "name": "stdout",
     "output_type": "stream",
     "text": [
      "          Album  Released    length          Artist\n",
      "0      Thriller      1989  00:42:45   Justin Bieber\n",
      "1  Back in back      1980  00:40:30         Sherlin\n",
      "2  Moonchildrea      2021  00:27:55  Diljit Dosanjh\n",
      "3      Moostape      2021   1:00:40           Sidhu\n"
     ]
    }
   ],
   "source": [
    "print(df)"
   ]
  },
  {
   "cell_type": "code",
   "execution_count": 100,
   "id": "d32d8d56",
   "metadata": {},
   "outputs": [
    {
     "name": "stdout",
     "output_type": "stream",
     "text": [
      "           Artist\n",
      "0   Justin Bieber\n",
      "1         Sherlin\n",
      "2  Diljit Dosanjh\n",
      "3           Sidhu\n"
     ]
    }
   ],
   "source": [
    "print(df.loc[0:3,'Artist':])"
   ]
  },
  {
   "cell_type": "code",
   "execution_count": 101,
   "id": "9c8b8186",
   "metadata": {},
   "outputs": [
    {
     "data": {
      "text/plain": [
       "array([1989, 1980, 2021], dtype=int64)"
      ]
     },
     "execution_count": 101,
     "metadata": {},
     "output_type": "execute_result"
    }
   ],
   "source": [
    "df['Released'].unique()"
   ]
  },
  {
   "cell_type": "code",
   "execution_count": 102,
   "id": "92b482b4",
   "metadata": {},
   "outputs": [],
   "source": [
    "df1 = df[df['Released']>=2020]"
   ]
  },
  {
   "cell_type": "code",
   "execution_count": 103,
   "id": "0c56fed6",
   "metadata": {},
   "outputs": [
    {
     "data": {
      "text/html": [
       "<div>\n",
       "<style scoped>\n",
       "    .dataframe tbody tr th:only-of-type {\n",
       "        vertical-align: middle;\n",
       "    }\n",
       "\n",
       "    .dataframe tbody tr th {\n",
       "        vertical-align: top;\n",
       "    }\n",
       "\n",
       "    .dataframe thead th {\n",
       "        text-align: right;\n",
       "    }\n",
       "</style>\n",
       "<table border=\"1\" class=\"dataframe\">\n",
       "  <thead>\n",
       "    <tr style=\"text-align: right;\">\n",
       "      <th></th>\n",
       "      <th>Album</th>\n",
       "      <th>Released</th>\n",
       "      <th>length</th>\n",
       "      <th>Artist</th>\n",
       "    </tr>\n",
       "  </thead>\n",
       "  <tbody>\n",
       "    <tr>\n",
       "      <th>2</th>\n",
       "      <td>Moonchildrea</td>\n",
       "      <td>2021</td>\n",
       "      <td>00:27:55</td>\n",
       "      <td>Diljit Dosanjh</td>\n",
       "    </tr>\n",
       "    <tr>\n",
       "      <th>3</th>\n",
       "      <td>Moostape</td>\n",
       "      <td>2021</td>\n",
       "      <td>1:00:40</td>\n",
       "      <td>Sidhu</td>\n",
       "    </tr>\n",
       "  </tbody>\n",
       "</table>\n",
       "</div>"
      ],
      "text/plain": [
       "          Album  Released    length          Artist\n",
       "2  Moonchildrea      2021  00:27:55  Diljit Dosanjh\n",
       "3      Moostape      2021   1:00:40           Sidhu"
      ]
     },
     "execution_count": 103,
     "metadata": {},
     "output_type": "execute_result"
    }
   ],
   "source": [
    "df1"
   ]
  },
  {
   "cell_type": "code",
   "execution_count": 104,
   "id": "03479db6",
   "metadata": {},
   "outputs": [
    {
     "data": {
      "text/html": [
       "<div>\n",
       "<style scoped>\n",
       "    .dataframe tbody tr th:only-of-type {\n",
       "        vertical-align: middle;\n",
       "    }\n",
       "\n",
       "    .dataframe tbody tr th {\n",
       "        vertical-align: top;\n",
       "    }\n",
       "\n",
       "    .dataframe thead th {\n",
       "        text-align: right;\n",
       "    }\n",
       "</style>\n",
       "<table border=\"1\" class=\"dataframe\">\n",
       "  <thead>\n",
       "    <tr style=\"text-align: right;\">\n",
       "      <th></th>\n",
       "      <th>Album</th>\n",
       "      <th>Released</th>\n",
       "      <th>length</th>\n",
       "      <th>Artist</th>\n",
       "    </tr>\n",
       "  </thead>\n",
       "  <tbody>\n",
       "    <tr>\n",
       "      <th>0</th>\n",
       "      <td>Thriller</td>\n",
       "      <td>1989</td>\n",
       "      <td>00:42:45</td>\n",
       "      <td>Justin Bieber</td>\n",
       "    </tr>\n",
       "    <tr>\n",
       "      <th>1</th>\n",
       "      <td>Back in back</td>\n",
       "      <td>1980</td>\n",
       "      <td>00:40:30</td>\n",
       "      <td>Sherlin</td>\n",
       "    </tr>\n",
       "    <tr>\n",
       "      <th>2</th>\n",
       "      <td>Moonchildrea</td>\n",
       "      <td>2021</td>\n",
       "      <td>00:27:55</td>\n",
       "      <td>Diljit Dosanjh</td>\n",
       "    </tr>\n",
       "    <tr>\n",
       "      <th>3</th>\n",
       "      <td>Moostape</td>\n",
       "      <td>2021</td>\n",
       "      <td>1:00:40</td>\n",
       "      <td>Sidhu</td>\n",
       "    </tr>\n",
       "  </tbody>\n",
       "</table>\n",
       "</div>"
      ],
      "text/plain": [
       "          Album  Released    length          Artist\n",
       "0      Thriller      1989  00:42:45   Justin Bieber\n",
       "1  Back in back      1980  00:40:30         Sherlin\n",
       "2  Moonchildrea      2021  00:27:55  Diljit Dosanjh\n",
       "3      Moostape      2021   1:00:40           Sidhu"
      ]
     },
     "execution_count": 104,
     "metadata": {},
     "output_type": "execute_result"
    }
   ],
   "source": [
    "df"
   ]
  },
  {
   "cell_type": "code",
   "execution_count": 111,
   "id": "6687f965",
   "metadata": {},
   "outputs": [
    {
     "name": "stdout",
     "output_type": "stream",
     "text": [
      "False\n",
      "False\n",
      "True\n",
      "True\n"
     ]
    }
   ],
   "source": [
    "for i in df['Released']:\n",
    "    print(i>=2021)"
   ]
  },
  {
   "cell_type": "code",
   "execution_count": 112,
   "id": "1a7376fa",
   "metadata": {},
   "outputs": [],
   "source": [
    "df.to_csv('newSongs.csv')"
   ]
  },
  {
   "cell_type": "code",
   "execution_count": 114,
   "id": "2fd5d8c5",
   "metadata": {},
   "outputs": [],
   "source": [
    "df2 = pd.read_csv('newSongs.csv')"
   ]
  },
  {
   "cell_type": "code",
   "execution_count": 116,
   "id": "985e54c1",
   "metadata": {},
   "outputs": [
    {
     "data": {
      "text/plain": [
       "4"
      ]
     },
     "execution_count": 116,
     "metadata": {},
     "output_type": "execute_result"
    }
   ],
   "source": [
    "len(df2)"
   ]
  },
  {
   "cell_type": "code",
   "execution_count": null,
   "id": "cc71c793",
   "metadata": {},
   "outputs": [],
   "source": []
  }
 ],
 "metadata": {
  "kernelspec": {
   "display_name": "Python 3",
   "language": "python",
   "name": "python3"
  },
  "language_info": {
   "codemirror_mode": {
    "name": "ipython",
    "version": 3
   },
   "file_extension": ".py",
   "mimetype": "text/x-python",
   "name": "python",
   "nbconvert_exporter": "python",
   "pygments_lexer": "ipython3",
   "version": "3.8.8"
  }
 },
 "nbformat": 4,
 "nbformat_minor": 5
}
