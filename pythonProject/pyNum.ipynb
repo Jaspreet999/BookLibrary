{
 "cells": [
  {
   "cell_type": "code",
   "execution_count": 1,
   "id": "048e7660",
   "metadata": {},
   "outputs": [],
   "source": [
    "import numpy as pn\n",
    "import matplotlib.pyplot as plt\n",
    "%matplotlib inline"
   ]
  },
  {
   "cell_type": "code",
   "execution_count": 3,
   "id": "0cac3150",
   "metadata": {},
   "outputs": [],
   "source": [
    "y = pn.array([1,2.0,3,4.4])"
   ]
  },
  {
   "cell_type": "code",
   "execution_count": 4,
   "id": "ea9353db",
   "metadata": {},
   "outputs": [
    {
     "data": {
      "text/plain": [
       "numpy.ndarray"
      ]
     },
     "execution_count": 4,
     "metadata": {},
     "output_type": "execute_result"
    }
   ],
   "source": [
    "type(y)"
   ]
  },
  {
   "cell_type": "code",
   "execution_count": 6,
   "id": "451235df",
   "metadata": {},
   "outputs": [],
   "source": [
    "y[0] = 100"
   ]
  },
  {
   "cell_type": "code",
   "execution_count": 7,
   "id": "25567333",
   "metadata": {},
   "outputs": [
    {
     "data": {
      "text/plain": [
       "array([100. ,   2. ,   3. ,   4.4])"
      ]
     },
     "execution_count": 7,
     "metadata": {},
     "output_type": "execute_result"
    }
   ],
   "source": [
    "y[0:]"
   ]
  },
  {
   "cell_type": "code",
   "execution_count": 8,
   "id": "d08632dd",
   "metadata": {},
   "outputs": [
    {
     "data": {
      "text/plain": [
       "27.35"
      ]
     },
     "execution_count": 8,
     "metadata": {},
     "output_type": "execute_result"
    }
   ],
   "source": [
    "y.mean()"
   ]
  },
  {
   "cell_type": "code",
   "execution_count": 9,
   "id": "4063c7a1",
   "metadata": {},
   "outputs": [
    {
     "data": {
      "text/plain": [
       "100.0"
      ]
     },
     "execution_count": 9,
     "metadata": {},
     "output_type": "execute_result"
    }
   ],
   "source": [
    "y.max()"
   ]
  },
  {
   "cell_type": "code",
   "execution_count": 10,
   "id": "10148bca",
   "metadata": {},
   "outputs": [
    {
     "data": {
      "text/plain": [
       "27.35"
      ]
     },
     "execution_count": 10,
     "metadata": {},
     "output_type": "execute_result"
    }
   ],
   "source": [
    "y.mean()"
   ]
  },
  {
   "cell_type": "code",
   "execution_count": 11,
   "id": "cca25faa",
   "metadata": {},
   "outputs": [
    {
     "data": {
      "text/plain": [
       "numpy.ndarray"
      ]
     },
     "execution_count": 11,
     "metadata": {},
     "output_type": "execute_result"
    }
   ],
   "source": [
    "type(y)"
   ]
  },
  {
   "cell_type": "code",
   "execution_count": 12,
   "id": "dbcd0333",
   "metadata": {},
   "outputs": [
    {
     "data": {
      "text/plain": [
       "dtype('float64')"
      ]
     },
     "execution_count": 12,
     "metadata": {},
     "output_type": "execute_result"
    }
   ],
   "source": [
    "y.dtype"
   ]
  },
  {
   "cell_type": "code",
   "execution_count": 13,
   "id": "b00b1c30",
   "metadata": {},
   "outputs": [
    {
     "data": {
      "text/plain": [
       "4"
      ]
     },
     "execution_count": 13,
     "metadata": {},
     "output_type": "execute_result"
    }
   ],
   "source": [
    "y.size"
   ]
  },
  {
   "cell_type": "code",
   "execution_count": 14,
   "id": "d97ef958",
   "metadata": {},
   "outputs": [
    {
     "data": {
      "text/plain": [
       "1"
      ]
     },
     "execution_count": 14,
     "metadata": {},
     "output_type": "execute_result"
    }
   ],
   "source": [
    "y.ndim"
   ]
  },
  {
   "cell_type": "code",
   "execution_count": 15,
   "id": "78820a97",
   "metadata": {},
   "outputs": [
    {
     "data": {
      "text/plain": [
       "(4,)"
      ]
     },
     "execution_count": 15,
     "metadata": {},
     "output_type": "execute_result"
    }
   ],
   "source": [
    "y.shape"
   ]
  },
  {
   "cell_type": "code",
   "execution_count": 16,
   "id": "dff8f8a2",
   "metadata": {},
   "outputs": [
    {
     "data": {
      "text/plain": [
       "array([  4.4,   3. ,   2. , 100. ])"
      ]
     },
     "execution_count": 16,
     "metadata": {},
     "output_type": "execute_result"
    }
   ],
   "source": [
    "y[::-1]"
   ]
  },
  {
   "cell_type": "code",
   "execution_count": 5,
   "id": "8e429946",
   "metadata": {},
   "outputs": [
    {
     "name": "stdout",
     "output_type": "stream",
     "text": [
      "[1 1]\n",
      "[1, 1]\n"
     ]
    }
   ],
   "source": [
    "# sum of two vector\n",
    "X = pn.array([1,0])\n",
    "Y = pn.array([0,1])\n",
    "\n",
    "z= []\n",
    "\n",
    "for u,v in zip(X,Y):\n",
    "    z.append(u+v)\n",
    "print(z)    "
   ]
  },
  {
   "cell_type": "code",
   "execution_count": 18,
   "id": "b7c955c2",
   "metadata": {},
   "outputs": [
    {
     "name": "stdout",
     "output_type": "stream",
     "text": [
      "[1, -1]\n"
     ]
    }
   ],
   "source": [
    "# difference of two vector\n",
    "X = pn.array([1,0])\n",
    "Y = pn.array([0,1])\n",
    "\n",
    "z= []\n",
    "\n",
    "for u,v in zip(X,Y):\n",
    "    z.append(u-v)\n",
    "print(z) "
   ]
  },
  {
   "cell_type": "code",
   "execution_count": 19,
   "id": "a240d1b7",
   "metadata": {},
   "outputs": [
    {
     "name": "stdout",
     "output_type": "stream",
     "text": [
      "[2 4]\n"
     ]
    }
   ],
   "source": [
    "# double the existing vector\n",
    "X = pn.array([1,2])\n",
    "\n",
    "\n",
    "z= X*2\n",
    "\n",
    "print(z) "
   ]
  },
  {
   "cell_type": "code",
   "execution_count": 20,
   "id": "e1c67256",
   "metadata": {},
   "outputs": [
    {
     "name": "stdout",
     "output_type": "stream",
     "text": [
      "[15, 24]\n"
     ]
    }
   ],
   "source": [
    "# product of two vector\n",
    "X = pn.array([3,4])\n",
    "Y = pn.array([5,6])\n",
    "\n",
    "z= []\n",
    "\n",
    "for u,v in zip(X,Y):\n",
    "    z.append(u*v)\n",
    "print(z) "
   ]
  },
  {
   "cell_type": "code",
   "execution_count": 21,
   "id": "3fe9e2d0",
   "metadata": {},
   "outputs": [
    {
     "name": "stdout",
     "output_type": "stream",
     "text": [
      "22.0\n",
      "using built in function : 22\n"
     ]
    }
   ],
   "source": [
    "# dot product of two vector\n",
    "X = pn.array([1,5])\n",
    "Y = pn.array([2,4])\n",
    "\n",
    "z= 0.0\n",
    "\n",
    "for u,v in zip(X,Y):\n",
    "    z = z + u*v\n",
    "print(z) \n",
    "print(\"using built in function :\",pn.dot(X,Y))"
   ]
  },
  {
   "cell_type": "code",
   "execution_count": 22,
   "id": "8a5c98d4",
   "metadata": {},
   "outputs": [
    {
     "name": "stdout",
     "output_type": "stream",
     "text": [
      "[14  0  5]\n"
     ]
    }
   ],
   "source": [
    "# adding constant to a vector\n",
    "u = pn.array([12,-2,3])\n",
    "z = u+2\n",
    "print(z)"
   ]
  },
  {
   "cell_type": "code",
   "execution_count": 23,
   "id": "c32aeca8",
   "metadata": {},
   "outputs": [
    {
     "name": "stdout",
     "output_type": "stream",
     "text": [
      "[ 1 -1]\n"
     ]
    }
   ],
   "source": [
    "# Multiply two vectors\n",
    "u  = pn.array([1,-1])*pn.array([1,1])\n",
    "\n",
    "print(u)"
   ]
  },
  {
   "cell_type": "code",
   "execution_count": 24,
   "id": "669bb8bd",
   "metadata": {},
   "outputs": [
    {
     "data": {
      "text/plain": [
       "3.141592653589793"
      ]
     },
     "execution_count": 24,
     "metadata": {},
     "output_type": "execute_result"
    }
   ],
   "source": [
    "# pi value in numpy\n",
    "pn.pi"
   ]
  },
  {
   "cell_type": "code",
   "execution_count": 25,
   "id": "a659690f",
   "metadata": {},
   "outputs": [],
   "source": [
    "X = pn.array([0,pn.pi/2,pn.pi])"
   ]
  },
  {
   "cell_type": "code",
   "execution_count": 26,
   "id": "12d11332",
   "metadata": {},
   "outputs": [],
   "source": [
    "y = pn.sin(X)"
   ]
  },
  {
   "cell_type": "code",
   "execution_count": 27,
   "id": "a6b2456c",
   "metadata": {},
   "outputs": [
    {
     "data": {
      "text/plain": [
       "array([0.0000000e+00, 1.0000000e+00, 1.2246468e-16])"
      ]
     },
     "execution_count": 27,
     "metadata": {},
     "output_type": "execute_result"
    }
   ],
   "source": [
    "y"
   ]
  },
  {
   "cell_type": "code",
   "execution_count": 28,
   "id": "4edd0a06",
   "metadata": {},
   "outputs": [],
   "source": [
    "y = pn.cos(X)"
   ]
  },
  {
   "cell_type": "code",
   "execution_count": 29,
   "id": "2d81975b",
   "metadata": {},
   "outputs": [
    {
     "data": {
      "text/plain": [
       "array([ 1.000000e+00,  6.123234e-17, -1.000000e+00])"
      ]
     },
     "execution_count": 29,
     "metadata": {},
     "output_type": "execute_result"
    }
   ],
   "source": [
    "y"
   ]
  },
  {
   "cell_type": "code",
   "execution_count": 30,
   "id": "6fc5a0c8",
   "metadata": {},
   "outputs": [
    {
     "data": {
      "text/plain": [
       "numpy.ndarray"
      ]
     },
     "execution_count": 30,
     "metadata": {},
     "output_type": "execute_result"
    }
   ],
   "source": [
    "type(y)"
   ]
  },
  {
   "cell_type": "code",
   "execution_count": 31,
   "id": "fcf0fb3d",
   "metadata": {},
   "outputs": [
    {
     "name": "stdout",
     "output_type": "stream",
     "text": [
      "[-2.         -0.66666667  0.66666667  2.        ]\n"
     ]
    }
   ],
   "source": [
    "# linespace \n",
    "\n",
    "x = pn.linspace(-2,2,num=9//2)\n",
    "print(x)"
   ]
  },
  {
   "cell_type": "code",
   "execution_count": 32,
   "id": "01cd4057",
   "metadata": {},
   "outputs": [
    {
     "data": {
      "text/plain": [
       "[<matplotlib.lines.Line2D at 0x17e3c4732e0>]"
      ]
     },
     "execution_count": 32,
     "metadata": {},
     "output_type": "execute_result"
    },
    {
     "data": {
      "image/png": "[encoded data removed]",
      "text/plain": [
       "<Figure size 432x288 with 1 Axes>"
      ]
     },
     "metadata": {
      "needs_background": "light"
     },
     "output_type": "display_data"
    }
   ],
   "source": [
    "x = pn.linspace(0,2*pn.pi,num = 100)\n",
    "y = pn.tan(x)\n",
    "\n",
    "plt.plot(x,y)\n"
   ]
  },
  {
   "cell_type": "code",
   "execution_count": 40,
   "id": "f13e1dac",
   "metadata": {},
   "outputs": [
    {
     "name": "stdout",
     "output_type": "stream",
     "text": [
      "[[11 12 13]\n",
      " [14 15 16]\n",
      " [17 18 19]]\n"
     ]
    }
   ],
   "source": [
    "a = [[11,12,13],[14,15,16],[17,18,19]]\n",
    "x = pn.array(a)\n",
    "print(x)"
   ]
  },
  {
   "cell_type": "code",
   "execution_count": 41,
   "id": "4d758e37",
   "metadata": {},
   "outputs": [
    {
     "data": {
      "text/plain": [
       "12"
      ]
     },
     "execution_count": 41,
     "metadata": {},
     "output_type": "execute_result"
    }
   ],
   "source": [
    "x[0][1]"
   ]
  },
  {
   "cell_type": "code",
   "execution_count": 42,
   "id": "82959072",
   "metadata": {},
   "outputs": [
    {
     "data": {
      "text/plain": [
       "19"
      ]
     },
     "execution_count": 42,
     "metadata": {},
     "output_type": "execute_result"
    }
   ],
   "source": [
    "x.max()"
   ]
  },
  {
   "cell_type": "code",
   "execution_count": 43,
   "id": "c8c1773f",
   "metadata": {},
   "outputs": [
    {
     "data": {
      "text/plain": [
       "11"
      ]
     },
     "execution_count": 43,
     "metadata": {},
     "output_type": "execute_result"
    }
   ],
   "source": [
    "x.min()"
   ]
  },
  {
   "cell_type": "code",
   "execution_count": 44,
   "id": "fb6ceb23",
   "metadata": {},
   "outputs": [
    {
     "ename": "TypeError",
     "evalue": "'tuple' object is not callable",
     "output_type": "error",
     "traceback": [
      "\u001b[1;31m---------------------------------------------------------------------------\u001b[0m",
      "\u001b[1;31mTypeError\u001b[0m                                 Traceback (most recent call last)",
      "\u001b[1;32m<ipython-input-44-53b346520f3e>\u001b[0m in \u001b[0;36m<module>\u001b[1;34m\u001b[0m\n\u001b[1;32m----> 1\u001b[1;33m \u001b[0mx\u001b[0m\u001b[1;33m.\u001b[0m\u001b[0mshape\u001b[0m\u001b[1;33m(\u001b[0m\u001b[1;33m)\u001b[0m\u001b[1;33m\u001b[0m\u001b[1;33m\u001b[0m\u001b[0m\n\u001b[0m",
      "\u001b[1;31mTypeError\u001b[0m: 'tuple' object is not callable"
     ]
    }
   ],
   "source": [
    "x.shape()"
   ]
  },
  {
   "cell_type": "code",
   "execution_count": 47,
   "id": "d40a0f80",
   "metadata": {},
   "outputs": [
    {
     "data": {
      "text/plain": [
       "array([[11, 12, 13],\n",
       "       [14, 15, 16]])"
      ]
     },
     "execution_count": 47,
     "metadata": {},
     "output_type": "execute_result"
    }
   ],
   "source": [
    "x[0:2,0:3]"
   ]
  },
  {
   "cell_type": "code",
   "execution_count": 50,
   "id": "a68a18fe",
   "metadata": {},
   "outputs": [
    {
     "name": "stdout",
     "output_type": "stream",
     "text": [
      "[[10 10 10]\n",
      " [10 10 10]\n",
      " [10 10 10]]\n"
     ]
    }
   ],
   "source": [
    "# addition of two matrices\n",
    "a = [[1,2,3,],[4,5,6],[7,8,9]]\n",
    "b = [[9,8,7],[6,5,4],[3,2,1]]\n",
    "\n",
    "X = pn.array(a)\n",
    "Y = pn.array(b)\n",
    "\n",
    "\n",
    "print(X + Y)\n"
   ]
  },
  {
   "cell_type": "code",
   "execution_count": 51,
   "id": "567110e1",
   "metadata": {},
   "outputs": [
    {
     "name": "stdout",
     "output_type": "stream",
     "text": [
      "[[ 9 16 21]\n",
      " [24 25 24]\n",
      " [21 16  9]]\n"
     ]
    }
   ],
   "source": [
    "# mutliplication of two matrices\n",
    "a = [[1,2,3,],[4,5,6],[7,8,9]]\n",
    "b = [[9,8,7],[6,5,4],[3,2,1]]\n",
    "\n",
    "X = pn.array(a)\n",
    "Y = pn.array(b)\n",
    "\n",
    "\n",
    "print(X * Y)"
   ]
  },
  {
   "cell_type": "code",
   "execution_count": 53,
   "id": "5c52b48f",
   "metadata": {},
   "outputs": [
    {
     "name": "stdout",
     "output_type": "stream",
     "text": [
      "[[ 30  24  18]\n",
      " [ 84  69  54]\n",
      " [138 114  90]]\n"
     ]
    }
   ],
   "source": [
    "z = pn.dot(X,Y)\n",
    "print(z)"
   ]
  },
  {
   "cell_type": "code",
   "execution_count": 54,
   "id": "64e6f0b5",
   "metadata": {},
   "outputs": [],
   "source": [
    "A = \"1234567\""
   ]
  },
  {
   "cell_type": "code",
   "execution_count": 55,
   "id": "9c2a1429",
   "metadata": {},
   "outputs": [
    {
     "data": {
      "text/plain": [
       "'246'"
      ]
     },
     "execution_count": 55,
     "metadata": {},
     "output_type": "execute_result"
    }
   ],
   "source": [
    "A[1::2]"
   ]
  },
  {
   "cell_type": "code",
   "execution_count": 56,
   "id": "8bf293ec",
   "metadata": {},
   "outputs": [],
   "source": [
    "v = {'A','B'}\n",
    "v.add('C')"
   ]
  },
  {
   "cell_type": "code",
   "execution_count": 57,
   "id": "46ec4208",
   "metadata": {},
   "outputs": [
    {
     "data": {
      "text/plain": [
       "{'A', 'B', 'C'}"
      ]
     },
     "execution_count": 57,
     "metadata": {},
     "output_type": "execute_result"
    }
   ],
   "source": [
    "v"
   ]
  },
  {
   "cell_type": "code",
   "execution_count": 9,
   "id": "808417af",
   "metadata": {},
   "outputs": [],
   "source": [
    "np_array = pn.array([[1,2,3,4],[5,6,7,8],[5,6,6,3]])"
   ]
  },
  {
   "cell_type": "code",
   "execution_count": 10,
   "id": "0c176f99",
   "metadata": {},
   "outputs": [
    {
     "data": {
      "text/plain": [
       "array([[1, 2, 3, 4],\n",
       "       [5, 6, 7, 8],\n",
       "       [5, 6, 6, 3]])"
      ]
     },
     "execution_count": 10,
     "metadata": {},
     "output_type": "execute_result"
    }
   ],
   "source": [
    "np_array"
   ]
  },
  {
   "cell_type": "code",
   "execution_count": 12,
   "id": "119ef3bb",
   "metadata": {},
   "outputs": [
    {
     "data": {
      "text/plain": [
       "(3, 4)"
      ]
     },
     "execution_count": 12,
     "metadata": {},
     "output_type": "execute_result"
    }
   ],
   "source": [
    "np_array.shape"
   ]
  },
  {
   "cell_type": "code",
   "execution_count": 18,
   "id": "3403040a",
   "metadata": {},
   "outputs": [],
   "source": [
    "np_array = pn.reshape(np_array,(3,4))"
   ]
  },
  {
   "cell_type": "code",
   "execution_count": 14,
   "id": "8938b1b6",
   "metadata": {},
   "outputs": [
    {
     "data": {
      "text/plain": [
       "array([[1, 2, 3],\n",
       "       [4, 5, 6],\n",
       "       [7, 8, 5],\n",
       "       [6, 6, 3]])"
      ]
     },
     "execution_count": 14,
     "metadata": {},
     "output_type": "execute_result"
    }
   ],
   "source": [
    "np_array"
   ]
  },
  {
   "cell_type": "code",
   "execution_count": 21,
   "id": "395ecf91",
   "metadata": {},
   "outputs": [
    {
     "data": {
      "text/plain": [
       "array([[0., 0., 0.],\n",
       "       [0., 0., 0.],\n",
       "       [0., 0., 0.],\n",
       "       [0., 0., 0.],\n",
       "       [0., 0., 0.]])"
      ]
     },
     "execution_count": 21,
     "metadata": {},
     "output_type": "execute_result"
    }
   ],
   "source": [
    "pn.zeros((5,3),dtype= float)"
   ]
  },
  {
   "cell_type": "code",
   "execution_count": 76,
   "id": "9988e075",
   "metadata": {},
   "outputs": [
    {
     "data": {
      "text/plain": [
       "0"
      ]
     },
     "execution_count": 76,
     "metadata": {},
     "output_type": "execute_result"
    }
   ],
   "source": [
    "pn.random.randint(0,2)"
   ]
  },
  {
   "cell_type": "code",
   "execution_count": 73,
   "id": "9bb1da1b",
   "metadata": {},
   "outputs": [
    {
     "data": {
      "text/plain": [
       "506.0"
      ]
     },
     "execution_count": 73,
     "metadata": {},
     "output_type": "execute_result"
    }
   ],
   "source": [
    "pn.dot(pn.linspace(1,11,11),pn.linspace(1,11,11))"
   ]
  },
  {
   "cell_type": "code",
   "execution_count": 70,
   "id": "1d188626",
   "metadata": {},
   "outputs": [],
   "source": [
    "temp = [2,4,6]\n",
    "temp = pn.array(temp)\n",
    "temp = temp // 2"
   ]
  },
  {
   "cell_type": "code",
   "execution_count": 67,
   "id": "555e3dac",
   "metadata": {},
   "outputs": [
    {
     "data": {
      "text/plain": [
       "array([1, 2, 3], dtype=int32)"
      ]
     },
     "execution_count": 67,
     "metadata": {},
     "output_type": "execute_result"
    }
   ],
   "source": [
    "temp"
   ]
  },
  {
   "cell_type": "code",
   "execution_count": null,
   "id": "439ecc3c",
   "metadata": {},
   "outputs": [],
   "source": []
  }
 ],
 "metadata": {
  "kernelspec": {
   "display_name": "Python 3",
   "language": "python",
   "name": "python3"
  },
  "language_info": {
   "codemirror_mode": {
    "name": "ipython",
    "version": 3
   },
   "file_extension": ".py",
   "mimetype": "text/x-python",
   "name": "python",
   "nbconvert_exporter": "python",
   "pygments_lexer": "ipython3",
   "version": "3.8.8"
  }
 },
 "nbformat": 4,
 "nbformat_minor": 5
}
