{
 "cells": [
  {
   "cell_type": "code",
   "execution_count": 23,
   "id": "4a53d857",
   "metadata": {},
   "outputs": [],
   "source": [
    "album_1 = {\"Goat\",\"Moosetape\",\"BTFU\",\"BTH\",\"Judai\",\"Moonchildera\"}\n",
    "album_2 = {\"Goat\",\"Moonchildera\",\"confiDial\"}"
   ]
  },
  {
   "cell_type": "code",
   "execution_count": 24,
   "id": "79ec9bf8",
   "metadata": {},
   "outputs": [
    {
     "data": {
      "text/plain": [
       "{'BTFU', 'BTH', 'Goat', 'Judai', 'Moonchildera', 'Moosetape'}"
      ]
     },
     "execution_count": 24,
     "metadata": {},
     "output_type": "execute_result"
    }
   ],
   "source": [
    "album_1"
   ]
  },
  {
   "cell_type": "code",
   "execution_count": 25,
   "id": "0866d427",
   "metadata": {},
   "outputs": [
    {
     "data": {
      "text/plain": [
       "{'Goat', 'Moonchildera', 'confiDial'}"
      ]
     },
     "execution_count": 25,
     "metadata": {},
     "output_type": "execute_result"
    }
   ],
   "source": [
    "album_2"
   ]
  },
  {
   "cell_type": "code",
   "execution_count": 26,
   "id": "dca981e0",
   "metadata": {},
   "outputs": [
    {
     "data": {
      "text/plain": [
       "True"
      ]
     },
     "execution_count": 26,
     "metadata": {},
     "output_type": "execute_result"
    }
   ],
   "source": [
    "\"Goat\" in album_1"
   ]
  },
  {
   "cell_type": "code",
   "execution_count": 27,
   "id": "347fc640",
   "metadata": {},
   "outputs": [],
   "source": [
    "full_album = album_1.union(album_2)"
   ]
  },
  {
   "cell_type": "code",
   "execution_count": 28,
   "id": "71c047e5",
   "metadata": {},
   "outputs": [
    {
     "data": {
      "text/plain": [
       "True"
      ]
     },
     "execution_count": 28,
     "metadata": {},
     "output_type": "execute_result"
    }
   ],
   "source": [
    "album_1.issubset(full_album)"
   ]
  },
  {
   "cell_type": "code",
   "execution_count": 29,
   "id": "8c6c11f8",
   "metadata": {},
   "outputs": [
    {
     "data": {
      "text/plain": [
       "False"
      ]
     },
     "execution_count": 29,
     "metadata": {},
     "output_type": "execute_result"
    }
   ],
   "source": [
    "album_2.issubset(album_1)"
   ]
  },
  {
   "cell_type": "code",
   "execution_count": 30,
   "id": "866cfd63",
   "metadata": {},
   "outputs": [
    {
     "data": {
      "text/plain": [
       "False"
      ]
     },
     "execution_count": 30,
     "metadata": {},
     "output_type": "execute_result"
    }
   ],
   "source": [
    "album_2 == album_1"
   ]
  },
  {
   "cell_type": "code",
   "execution_count": 31,
   "id": "bceb0589",
   "metadata": {},
   "outputs": [],
   "source": [
    "diljit_album = album_1 & album_2"
   ]
  },
  {
   "cell_type": "code",
   "execution_count": 32,
   "id": "30c47b15",
   "metadata": {},
   "outputs": [
    {
     "data": {
      "text/plain": [
       "{'Goat', 'Moonchildera'}"
      ]
     },
     "execution_count": 32,
     "metadata": {},
     "output_type": "execute_result"
    }
   ],
   "source": [
    "diljit_album"
   ]
  },
  {
   "cell_type": "code",
   "execution_count": 33,
   "id": "84128cf2",
   "metadata": {},
   "outputs": [
    {
     "data": {
      "text/plain": [
       "True"
      ]
     },
     "execution_count": 33,
     "metadata": {},
     "output_type": "execute_result"
    }
   ],
   "source": [
    "full_album.issuperset(album_1)"
   ]
  },
  {
   "cell_type": "code",
   "execution_count": 34,
   "id": "845b5319",
   "metadata": {},
   "outputs": [
    {
     "data": {
      "text/plain": [
       "True"
      ]
     },
     "execution_count": 34,
     "metadata": {},
     "output_type": "execute_result"
    }
   ],
   "source": [
    "full_album.issuperset(album_2)"
   ]
  },
  {
   "cell_type": "code",
   "execution_count": null,
   "id": "a2253d41",
   "metadata": {},
   "outputs": [],
   "source": []
  }
 ],
 "metadata": {
  "kernelspec": {
   "display_name": "Python 3",
   "language": "python",
   "name": "python3"
  },
  "language_info": {
   "codemirror_mode": {
    "name": "ipython",
    "version": 3
   },
   "file_extension": ".py",
   "mimetype": "text/x-python",
   "name": "python",
   "nbconvert_exporter": "python",
   "pygments_lexer": "ipython3",
   "version": "3.8.8"
  }
 },
 "nbformat": 4,
 "nbformat_minor": 5
}
