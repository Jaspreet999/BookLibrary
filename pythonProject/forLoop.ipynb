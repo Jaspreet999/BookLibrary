{
 "cells": [
  {
   "cell_type": "markdown",
   "id": "823be6b7",
   "metadata": {},
   "source": [
    "## for loop with python"
   ]
  },
  {
   "cell_type": "code",
   "execution_count": 8,
   "id": "a63ac56a",
   "metadata": {},
   "outputs": [
    {
     "name": "stdout",
     "output_type": "stream",
     "text": [
      "5\n",
      "10\n",
      "15\n",
      "20\n",
      "25\n",
      "30\n",
      "35\n",
      "40\n",
      "45\n",
      "50\n"
     ]
    }
   ],
   "source": [
    "num = 5\n",
    "\n",
    "\n",
    "\n",
    "print(num * 1)\n",
    "print(num * 2)\n",
    "print(num * 3)\n",
    "print(num * 4)\n",
    "print(num * 5)\n",
    "print(num * 6)\n",
    "print(num * 7)\n",
    "print(num * 8)\n",
    "print(num * 9)\n",
    "print(num * 10)\n"
   ]
  },
  {
   "cell_type": "code",
   "execution_count": 22,
   "id": "65c7ff53",
   "metadata": {},
   "outputs": [
    {
     "name": "stdout",
     "output_type": "stream",
     "text": [
      "1 5\n",
      "2 10\n",
      "3 15\n",
      "4 20\n",
      "5 25\n",
      "6 30\n",
      "7 35\n",
      "8 40\n",
      "9 45\n",
      "10 50\n"
     ]
    }
   ],
   "source": [
    "\n",
    "for i in range(1,11):\n",
    "    print(i,i*num)"
   ]
  },
  {
   "cell_type": "code",
   "execution_count": 28,
   "id": "23e89ca7",
   "metadata": {},
   "outputs": [
    {
     "name": "stdout",
     "output_type": "stream",
     "text": [
      "-10\n",
      "-9\n",
      "-8\n",
      "-7\n",
      "-6\n",
      "-5\n",
      "-4\n",
      "-3\n",
      "-2\n",
      "-1\n"
     ]
    }
   ],
   "source": [
    "for i in range(-10,0,+1):\n",
    "    print(i)"
   ]
  },
  {
   "cell_type": "code",
   "execution_count": 30,
   "id": "9286d24f",
   "metadata": {},
   "outputs": [
    {
     "name": "stdout",
     "output_type": "stream",
     "text": [
      "10\n",
      "9\n",
      "8\n",
      "7\n",
      "6\n",
      "5\n",
      "4\n",
      "3\n",
      "2\n",
      "1\n"
     ]
    }
   ],
   "source": [
    "var1 = 10\n",
    "while(var1>0):\n",
    "    print(var1)\n",
    "    var1 -=1"
   ]
  },
  {
   "cell_type": "code",
   "execution_count": 32,
   "id": "f8b44bf0",
   "metadata": {},
   "outputs": [
    {
     "name": "stdout",
     "output_type": "stream",
     "text": [
      "9\n",
      "18\n",
      "27\n",
      "36\n",
      "45\n",
      "54\n",
      "63\n",
      "72\n",
      "81\n",
      "90\n"
     ]
    }
   ],
   "source": [
    "for i in range(9,91,9):\n",
    "    print(i)"
   ]
  },
  {
   "cell_type": "code",
   "execution_count": 37,
   "id": "3879310e",
   "metadata": {},
   "outputs": [
    {
     "data": {
      "text/plain": [
       "False"
      ]
     },
     "execution_count": 37,
     "metadata": {},
     "output_type": "execute_result"
    }
   ],
   "source": [
    "19<18 or 20<19"
   ]
  },
  {
   "cell_type": "code",
   "execution_count": null,
   "id": "5b3c5eb1",
   "metadata": {},
   "outputs": [],
   "source": []
  }
 ],
 "metadata": {
  "kernelspec": {
   "display_name": "Python 3",
   "language": "python",
   "name": "python3"
  },
  "language_info": {
   "codemirror_mode": {
    "name": "ipython",
    "version": 3
   },
   "file_extension": ".py",
   "mimetype": "text/x-python",
   "name": "python",
   "nbconvert_exporter": "python",
   "pygments_lexer": "ipython3",
   "version": "3.8.8"
  }
 },
 "nbformat": 4,
 "nbformat_minor": 5
}
