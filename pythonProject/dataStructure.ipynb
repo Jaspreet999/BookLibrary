{
 "cells": [
  {
   "cell_type": "code",
   "execution_count": 1,
   "id": "1a8911a6",
   "metadata": {},
   "outputs": [
    {
     "name": "stdout",
     "output_type": "stream",
     "text": [
      "hello\thello\thello\thello\thello\thello\thello\thello\thello\thello\t\n"
     ]
    }
   ],
   "source": [
    "print(\"hello\\t\"*10)"
   ]
  },
  {
   "cell_type": "code",
   "execution_count": 2,
   "id": "494df76d",
   "metadata": {},
   "outputs": [],
   "source": [
    "names = [] \n",
    "\n",
    "english = []\n",
    "maths = []\n",
    "science = []\n",
    "hindi = []\n"
   ]
  },
  {
   "cell_type": "code",
   "execution_count": 3,
   "id": "87d396ec",
   "metadata": {},
   "outputs": [
    {
     "name": "stdout",
     "output_type": "stream",
     "text": [
      "Enter the number of students: 3\n",
      "Enter the name of Students: Jaspreet\n",
      "Enter student's marks in Hindi: 89\n",
      "Enter student's marks in English: 88\n",
      "Enter student's marks in Science: 89\n",
      "Enter student's marks in Math: 87\n",
      "Name added successfully!\n",
      "Enter the name of Students: Anubhav\n",
      "Enter student's marks in Hindi: 78\n",
      "Enter student's marks in English: 87\n",
      "Enter student's marks in Science: 89\n",
      "Enter student's marks in Math: 90\n",
      "Name added successfully!\n",
      "Enter the name of Students: Shivansh\n",
      "Enter student's marks in Hindi: 88\n",
      "Enter student's marks in English: 89\n",
      "Enter student's marks in Science: 87\n",
      "Enter student's marks in Math: 88\n",
      "Name added successfully!\n"
     ]
    }
   ],
   "source": [
    "number_of_students = int(input(\"Enter the number of students: \"))\n",
    "\n",
    "for i in range(number_of_students):\n",
    "    temp = str(input(\"Enter the name of Students: \"))\n",
    "    names.append(temp)\n",
    "    hindi.append(int(input(\"Enter student's marks in Hindi: \")))\n",
    "    english.append(int(input(\"Enter student's marks in English: \")))\n",
    "    science.append(int(input(\"Enter student's marks in Science: \")))\n",
    "    maths.append(int(input(\"Enter student's marks in Math: \")))\n",
    "    \n",
    "    print(\"Name added successfully!\")"
   ]
  },
  {
   "cell_type": "code",
   "execution_count": 4,
   "id": "c835eba8",
   "metadata": {},
   "outputs": [
    {
     "data": {
      "text/plain": [
       "['Jaspreet', 'Anubhav', 'Shivansh']"
      ]
     },
     "execution_count": 4,
     "metadata": {},
     "output_type": "execute_result"
    }
   ],
   "source": [
    "names"
   ]
  },
  {
   "cell_type": "code",
   "execution_count": 5,
   "id": "ef3ab90a",
   "metadata": {},
   "outputs": [
    {
     "data": {
      "text/plain": [
       "[89, 78, 88]"
      ]
     },
     "execution_count": 5,
     "metadata": {},
     "output_type": "execute_result"
    }
   ],
   "source": [
    "hindi"
   ]
  },
  {
   "cell_type": "code",
   "execution_count": 6,
   "id": "d422db92",
   "metadata": {},
   "outputs": [],
   "source": [
    "data = [[1,2,3],[1,2,3]]"
   ]
  },
  {
   "cell_type": "code",
   "execution_count": 8,
   "id": "9341d57c",
   "metadata": {},
   "outputs": [],
   "source": [
    "data = [[names],[english],[hindi],[maths],[science]]"
   ]
  },
  {
   "cell_type": "code",
   "execution_count": 9,
   "id": "cb1a0031",
   "metadata": {},
   "outputs": [
    {
     "data": {
      "text/plain": [
       "[[['Jaspreet', 'Anubhav', 'Shivansh']],\n",
       " [[88, 87, 89]],\n",
       " [[89, 78, 88]],\n",
       " [[87, 90, 88]],\n",
       " [[89, 89, 87]]]"
      ]
     },
     "execution_count": 9,
     "metadata": {},
     "output_type": "execute_result"
    }
   ],
   "source": [
    "data"
   ]
  },
  {
   "cell_type": "code",
   "execution_count": 10,
   "id": "b92c6452",
   "metadata": {},
   "outputs": [],
   "source": [
    "del data"
   ]
  },
  {
   "cell_type": "code",
   "execution_count": 11,
   "id": "b909e3eb",
   "metadata": {},
   "outputs": [
    {
     "ename": "NameError",
     "evalue": "name 'data' is not defined",
     "output_type": "error",
     "traceback": [
      "\u001b[1;31m---------------------------------------------------------------------------\u001b[0m",
      "\u001b[1;31mNameError\u001b[0m                                 Traceback (most recent call last)",
      "\u001b[1;32m<ipython-input-11-c5d84736ba45>\u001b[0m in \u001b[0;36m<module>\u001b[1;34m\u001b[0m\n\u001b[1;32m----> 1\u001b[1;33m \u001b[0mdata\u001b[0m\u001b[1;33m\u001b[0m\u001b[1;33m\u001b[0m\u001b[0m\n\u001b[0m",
      "\u001b[1;31mNameError\u001b[0m: name 'data' is not defined"
     ]
    }
   ],
   "source": [
    "data"
   ]
  },
  {
   "cell_type": "code",
   "execution_count": null,
   "id": "941a41e0",
   "metadata": {},
   "outputs": [],
   "source": []
  }
 ],
 "metadata": {
  "kernelspec": {
   "display_name": "Python 3",
   "language": "python",
   "name": "python3"
  },
  "language_info": {
   "codemirror_mode": {
    "name": "ipython",
    "version": 3
   },
   "file_extension": ".py",
   "mimetype": "text/x-python",
   "name": "python",
   "nbconvert_exporter": "python",
   "pygments_lexer": "ipython3",
   "version": "3.8.8"
  }
 },
 "nbformat": 4,
 "nbformat_minor": 5
}
