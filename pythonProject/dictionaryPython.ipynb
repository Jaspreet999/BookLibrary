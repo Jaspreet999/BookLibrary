{
 "cells": [
  {
   "cell_type": "code",
   "execution_count": 23,
   "id": "4bae88d0",
   "metadata": {},
   "outputs": [],
   "source": [
    "dict = {\n",
    "      'name' : 'Jaspreet Singh',\n",
    "      'rollNo' : 2319006,\n",
    "      'stream' : 'CSE',\n",
    "}"
   ]
  },
  {
   "cell_type": "code",
   "execution_count": 60,
   "id": "aa8d8d6f",
   "metadata": {},
   "outputs": [
    {
     "ename": "KeyError",
     "evalue": "0",
     "output_type": "error",
     "traceback": [
      "\u001b[1;31m---------------------------------------------------------------------------\u001b[0m",
      "\u001b[1;31mKeyError\u001b[0m                                  Traceback (most recent call last)",
      "\u001b[1;32m<ipython-input-60-b15b5c1f4e45>\u001b[0m in \u001b[0;36m<module>\u001b[1;34m\u001b[0m\n\u001b[0;32m      1\u001b[0m \u001b[0mdict\u001b[0m\u001b[1;33m[\u001b[0m\u001b[1;34m'name'\u001b[0m\u001b[1;33m]\u001b[0m\u001b[1;33m\u001b[0m\u001b[1;33m\u001b[0m\u001b[0m\n\u001b[1;32m----> 2\u001b[1;33m \u001b[0mdict\u001b[0m\u001b[1;33m[\u001b[0m\u001b[1;36m0\u001b[0m\u001b[1;33m]\u001b[0m\u001b[1;33m\u001b[0m\u001b[1;33m\u001b[0m\u001b[0m\n\u001b[0m",
      "\u001b[1;31mKeyError\u001b[0m: 0"
     ]
    }
   ],
   "source": [
    "dict['name]"
   ]
  },
  {
   "cell_type": "code",
   "execution_count": 16,
   "id": "ef3aebe3",
   "metadata": {},
   "outputs": [
    {
     "name": "stdout",
     "output_type": "stream",
     "text": [
      "name  =  Shivansh\n",
      "rollNo  =  2319006\n",
      "stream  =  CSE\n"
     ]
    }
   ],
   "source": [
    "for i in dict:\n",
    "    print(i ,\" = \",dict[i])"
   ]
  },
  {
   "cell_type": "code",
   "execution_count": 19,
   "id": "50bc0791",
   "metadata": {},
   "outputs": [],
   "source": [
    "dict['name'] = 'Navpreet Singh'"
   ]
  },
  {
   "cell_type": "code",
   "execution_count": 20,
   "id": "f48ce9da",
   "metadata": {},
   "outputs": [
    {
     "data": {
      "text/plain": [
       "{'name': 'Navpreet Singh', 'rollNo': 2319006, 'stream': 'CSE'}"
      ]
     },
     "execution_count": 20,
     "metadata": {},
     "output_type": "execute_result"
    }
   ],
   "source": [
    "dict"
   ]
  },
  {
   "cell_type": "code",
   "execution_count": 22,
   "id": "e1cb19b6",
   "metadata": {},
   "outputs": [
    {
     "data": {
      "text/plain": [
       "dict_values(['Navpreet Singh', 2319006, 'CSE'])"
      ]
     },
     "execution_count": 22,
     "metadata": {},
     "output_type": "execute_result"
    }
   ],
   "source": [
    "dict.append()"
   ]
  },
  {
   "cell_type": "code",
   "execution_count": 52,
   "id": "c1a8d454",
   "metadata": {},
   "outputs": [],
   "source": [
    "data = {  \"11212\":{'name' : 'Jaspreet Singh','rollNo' : 2319006,'stream' : 'CSE',},\n",
    "          \"11213\":{'name' : 'Shivansh','rollNo' : 2319001,'stream' : 'CSE'},\n",
    "          \"11214\":{'name' : 'Navpreet Singh','rollNo' : 2319014,'stream' : 'CSE',}\n",
    "}"
   ]
  },
  {
   "cell_type": "code",
   "execution_count": 28,
   "id": "7716dc61",
   "metadata": {},
   "outputs": [
    {
     "data": {
      "text/plain": [
       "{'11212': {'name': 'Jaspreet Singh', 'rollNo': 2319006, 'stream': 'CSE'},\n",
       " '11213': {'name': 'Shivansh', 'rollNo': 2319001, 'stream': 'CSE'},\n",
       " '11214': {'name': 'Navpreet Singh', 'rollNo': 2319014, 'stream': 'CSE'}}"
      ]
     },
     "execution_count": 28,
     "metadata": {},
     "output_type": "execute_result"
    }
   ],
   "source": [
    "data"
   ]
  },
  {
   "cell_type": "code",
   "execution_count": 53,
   "id": "d4524b1a",
   "metadata": {},
   "outputs": [
    {
     "data": {
      "text/plain": [
       "'Jaspreet Singh'"
      ]
     },
     "execution_count": 53,
     "metadata": {},
     "output_type": "execute_result"
    }
   ],
   "source": [
    "data['11212']['name']"
   ]
  },
  {
   "cell_type": "code",
   "execution_count": 59,
   "id": "8a41949b",
   "metadata": {},
   "outputs": [
    {
     "name": "stdout",
     "output_type": "stream",
     "text": [
      "{'name': 'Jaspreet Singh', 'rollNo': 2319006, 'stream': 'CSE'}\n",
      "name = Jaspreet Singh\n",
      "rollNo = 2319006\n",
      "stream = CSE\n",
      "{'name': 'Shivansh', 'rollNo': 2319001, 'stream': 'CSE'}\n",
      "name = Shivansh\n",
      "rollNo = 2319001\n",
      "stream = CSE\n",
      "{'name': 'Navpreet Singh', 'rollNo': 2319014, 'stream': 'CSE'}\n",
      "name = Navpreet Singh\n",
      "rollNo = 2319014\n",
      "stream = CSE\n",
      "{'name': 'Aditya', 'rollNo': 2319002, 'stream': 'CSE'}\n",
      "name = Aditya\n",
      "rollNo = 2319002\n",
      "stream = CSE\n"
     ]
    }
   ],
   "source": [
    "for i in data:\n",
    "    print(data[i])\n",
    "    for j in data[i]:\n",
    "        print(j ,\"=\",data[i][j])"
   ]
  },
  {
   "cell_type": "code",
   "execution_count": 55,
   "id": "effb60f9",
   "metadata": {},
   "outputs": [
    {
     "data": {
      "text/plain": [
       "dict"
      ]
     },
     "execution_count": 55,
     "metadata": {},
     "output_type": "execute_result"
    }
   ],
   "source": [
    "len(data)\n",
    "type(data)"
   ]
  },
  {
   "cell_type": "code",
   "execution_count": 56,
   "id": "d1d2cb5b",
   "metadata": {},
   "outputs": [
    {
     "data": {
      "text/plain": [
       "dict_values([{'name': 'Jaspreet Singh', 'rollNo': 2319006, 'stream': 'CSE'}, {'name': 'Shivansh', 'rollNo': 2319001, 'stream': 'CSE'}, {'name': 'Navpreet Singh', 'rollNo': 2319014, 'stream': 'CSE'}])"
      ]
     },
     "execution_count": 56,
     "metadata": {},
     "output_type": "execute_result"
    }
   ],
   "source": [
    "data.values()"
   ]
  },
  {
   "cell_type": "code",
   "execution_count": 57,
   "id": "14e52ed0",
   "metadata": {},
   "outputs": [],
   "source": [
    "data['11215'] = {'name' : 'Aditya','rollNo' : 2319002,'stream' : 'CSE',}"
   ]
  },
  {
   "cell_type": "code",
   "execution_count": 58,
   "id": "c570e42d",
   "metadata": {},
   "outputs": [
    {
     "data": {
      "text/plain": [
       "{'11212': {'name': 'Jaspreet Singh', 'rollNo': 2319006, 'stream': 'CSE'},\n",
       " '11213': {'name': 'Shivansh', 'rollNo': 2319001, 'stream': 'CSE'},\n",
       " '11214': {'name': 'Navpreet Singh', 'rollNo': 2319014, 'stream': 'CSE'},\n",
       " '11215': {'name': 'Aditya', 'rollNo': 2319002, 'stream': 'CSE'}}"
      ]
     },
     "execution_count": 58,
     "metadata": {},
     "output_type": "execute_result"
    }
   ],
   "source": [
    "data"
   ]
  },
  {
   "cell_type": "code",
   "execution_count": 61,
   "id": "d0d28ae7",
   "metadata": {},
   "outputs": [],
   "source": [
    "dt = { 0:1}"
   ]
  },
  {
   "cell_type": "code",
   "execution_count": 62,
   "id": "b9598257",
   "metadata": {},
   "outputs": [
    {
     "data": {
      "text/plain": [
       "1"
      ]
     },
     "execution_count": 62,
     "metadata": {},
     "output_type": "execute_result"
    }
   ],
   "source": [
    "dt[0]"
   ]
  },
  {
   "cell_type": "code",
   "execution_count": 63,
   "id": "56be712b",
   "metadata": {},
   "outputs": [],
   "source": [
    "lst = list(set([1,2,3,4,5,6,6,10,97,5,5,1]))"
   ]
  },
  {
   "cell_type": "code",
   "execution_count": 64,
   "id": "687a5482",
   "metadata": {},
   "outputs": [
    {
     "data": {
      "text/plain": [
       "8"
      ]
     },
     "execution_count": 64,
     "metadata": {},
     "output_type": "execute_result"
    }
   ],
   "source": [
    "len(lst)"
   ]
  },
  {
   "cell_type": "code",
   "execution_count": 65,
   "id": "6e0b0eec",
   "metadata": {},
   "outputs": [],
   "source": [
    "lst = [1,2,3,4,5,6,7]"
   ]
  },
  {
   "cell_type": "code",
   "execution_count": 66,
   "id": "f9c895ab",
   "metadata": {},
   "outputs": [
    {
     "ename": "IndexError",
     "evalue": "list index out of range",
     "output_type": "error",
     "traceback": [
      "\u001b[1;31m---------------------------------------------------------------------------\u001b[0m",
      "\u001b[1;31mIndexError\u001b[0m                                Traceback (most recent call last)",
      "\u001b[1;32m<ipython-input-66-920be0e20a2b>\u001b[0m in \u001b[0;36m<module>\u001b[1;34m\u001b[0m\n\u001b[1;32m----> 1\u001b[1;33m \u001b[0mlst\u001b[0m\u001b[1;33m[\u001b[0m\u001b[1;36m7\u001b[0m\u001b[1;33m]\u001b[0m\u001b[1;33m\u001b[0m\u001b[1;33m\u001b[0m\u001b[0m\n\u001b[0m",
      "\u001b[1;31mIndexError\u001b[0m: list index out of range"
     ]
    }
   ],
   "source": [
    "lst[7]"
   ]
  },
  {
   "cell_type": "code",
   "execution_count": null,
   "id": "41f12ead",
   "metadata": {},
   "outputs": [],
   "source": []
  }
 ],
 "metadata": {
  "kernelspec": {
   "display_name": "Python 3",
   "language": "python",
   "name": "python3"
  },
  "language_info": {
   "codemirror_mode": {
    "name": "ipython",
    "version": 3
   },
   "file_extension": ".py",
   "mimetype": "text/x-python",
   "name": "python",
   "nbconvert_exporter": "python",
   "pygments_lexer": "ipython3",
   "version": "3.8.8"
  }
 },
 "nbformat": 4,
 "nbformat_minor": 5
}
