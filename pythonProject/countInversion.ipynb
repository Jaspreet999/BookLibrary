{
 "cells": [
  {
   "cell_type": "code",
   "execution_count": 16,
   "id": "286c9e79",
   "metadata": {},
   "outputs": [
    {
     "name": "stdout",
     "output_type": "stream",
     "text": [
      "2407905288\n",
      "15\n"
     ]
    }
   ],
   "source": [
    "#merge sort using divide and conquer\n",
    "def merge_sort(arr,l,h):\n",
    "    a=0\n",
    "    b=0\n",
    "    c=0\n",
    "    \n",
    "    if(l<h):\n",
    "        mid = (l+h)//2\n",
    "        a = merge_sort(arr,l,mid)\n",
    "        b = merge_sort(arr,mid+1,h)\n",
    "        c = countInversion(arr,l,mid,h)\n",
    "    return a+b+c\n",
    "\n",
    "def countInversion(arr,l,mid,h):\n",
    "    low = l\n",
    "    high = h\n",
    "    i=l\n",
    "    j=mid+1\n",
    "    inversion = 0\n",
    "    c = []\n",
    "    \n",
    "    if(l<h):\n",
    "        while(i<= mid and j<=h):\n",
    "            if(arr[i] < arr[j]):\n",
    "                c.append(arr[i])\n",
    "                i+=1\n",
    "                \n",
    "            else:\n",
    "                c.append(arr[j])\n",
    "                inversion+= (mid+1-i)\n",
    "                j+=1\n",
    "                         \n",
    "    if(i<=mid):\n",
    "        while(i<=mid):\n",
    "            c.append(arr[i])  \n",
    "            i+=1\n",
    "    elif(j<=h):\n",
    "        while(j<=h):\n",
    "            c.append(arr[j])\n",
    "            j+=1\n",
    "            \n",
    "    j=0\n",
    "    \n",
    "    for i in range(l,h+1):\n",
    "        arr[i] = c[j]\n",
    "        j+=1  \n",
    "    \n",
    "    return inversion\n",
    "\n",
    "file = open(\"IntegerArray.txt\",\"r\")\n",
    "values =[]\n",
    "for line in file:\n",
    "    values.append(int(line))\n",
    "    \n",
    "print(merge_sort(values,0,len(values)-1) )   \n",
    "print(merge_sort([6,5,4,3,2,1],0,5))\n",
    "\n"
   ]
  },
  {
   "cell_type": "code",
   "execution_count": 182,
   "id": "be4e78a3",
   "metadata": {},
   "outputs": [
    {
     "name": "stdout",
     "output_type": "stream",
     "text": [
      "15\n"
     ]
    }
   ],
   "source": [
    "#mergesort usnig brute-force\n",
    "inversion = 0\n",
    "arr =[6,5,4,3,2,1]\n",
    "for i in range(0len([6,5,4,3,2,1])-1):\n",
    "    for j in range(1,len([6,5,4,3,2,1])):\n",
    "        if(arr[i]>arr[j]):\n",
    "            inversion+=1\n",
    "print(inversion)            "
   ]
  },
  {
   "cell_type": "code",
   "execution_count": null,
   "id": "10df6ee3",
   "metadata": {},
   "outputs": [],
   "source": []
  }
 ],
 "metadata": {
  "kernelspec": {
   "display_name": "Python 3",
   "language": "python",
   "name": "python3"
  },
  "language_info": {
   "codemirror_mode": {
    "name": "ipython",
    "version": 3
   },
   "file_extension": ".py",
   "mimetype": "text/x-python",
   "name": "python",
   "nbconvert_exporter": "python",
   "pygments_lexer": "ipython3",
   "version": "3.8.8"
  }
 },
 "nbformat": 4,
 "nbformat_minor": 5
}
