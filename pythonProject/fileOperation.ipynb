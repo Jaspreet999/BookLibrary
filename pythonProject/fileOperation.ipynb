{
 "cells": [
  {
   "cell_type": "code",
   "execution_count": 32,
   "id": "4dd53f60",
   "metadata": {},
   "outputs": [
    {
     "data": {
      "text/plain": [
       "('Example1.txt', <http.client.HTTPMessage at 0x1f1ea429d90>)"
      ]
     },
     "execution_count": 32,
     "metadata": {},
     "output_type": "execute_result"
    }
   ],
   "source": [
    "import urllib.request\n",
    "url = 'https://cf-courses-data.s3.us.cloud-object-storage.appdomain.cloud/IBMDeveloperSkillsNetwork-PY0101EN-SkillsNetwork/labs/Module%204/data/example1.txt'\n",
    "filename = 'Example1.txt'\n",
    "urllib.request.urlretrieve(url, filename)"
   ]
  },
  {
   "cell_type": "code",
   "execution_count": 33,
   "id": "c2607603",
   "metadata": {},
   "outputs": [],
   "source": [
    "file1 = open(\"exmple.txt\",\"r\")"
   ]
  },
  {
   "cell_type": "code",
   "execution_count": 34,
   "id": "77ff1660",
   "metadata": {},
   "outputs": [
    {
     "data": {
      "text/plain": [
       "'exmple.txt'"
      ]
     },
     "execution_count": 34,
     "metadata": {},
     "output_type": "execute_result"
    }
   ],
   "source": [
    "file1.name"
   ]
  },
  {
   "cell_type": "code",
   "execution_count": 35,
   "id": "8ad0287f",
   "metadata": {},
   "outputs": [
    {
     "data": {
      "text/plain": [
       "'r'"
      ]
     },
     "execution_count": 35,
     "metadata": {},
     "output_type": "execute_result"
    }
   ],
   "source": [
    "file1.mode"
   ]
  },
  {
   "cell_type": "code",
   "execution_count": 36,
   "id": "66806ef7",
   "metadata": {},
   "outputs": [
    {
     "name": "stdout",
     "output_type": "stream",
     "text": [
      "This is line 1 \n",
      "This is line 2\n",
      "This is line 3\n"
     ]
    },
    {
     "data": {
      "text/plain": [
       "<function TextIOWrapper.close()>"
      ]
     },
     "execution_count": 36,
     "metadata": {},
     "output_type": "execute_result"
    }
   ],
   "source": [
    "with open(filename, \"r\") as file1:\n",
    "    FileContent = file1.read()\n",
    "    print(FileContent)\n",
    "file1.close    "
   ]
  },
  {
   "cell_type": "code",
   "execution_count": 71,
   "id": "ac6a77d1",
   "metadata": {},
   "outputs": [
    {
     "name": "stdout",
     "output_type": "stream",
     "text": [
      "n\n",
      "n\n",
      "n\n"
     ]
    },
    {
     "data": {
      "text/plain": [
       "<function TextIOWrapper.close()>"
      ]
     },
     "execution_count": 71,
     "metadata": {},
     "output_type": "execute_result"
    }
   ],
   "source": [
    "with open(filename,\"r\") as file2:\n",
    "    for file in file2:\n",
    "        print(file[10])    \n",
    "file2.close    "
   ]
  },
  {
   "cell_type": "code",
   "execution_count": 81,
   "id": "c514781a",
   "metadata": {},
   "outputs": [
    {
     "data": {
      "text/plain": [
       "<function TextIOWrapper.close()>"
      ]
     },
     "execution_count": 81,
     "metadata": {},
     "output_type": "execute_result"
    }
   ],
   "source": [
    "lsts = [\"Jaspreet Singh\\n\",\"Shivansh singh\\n\", \"Gurjeet Singh\\n\"]\n",
    "with open(filename,\"w\") as file3:\n",
    "    \n",
    "    for lst in lsts:\n",
    "        file3.write(lst)\n",
    "\n",
    "file3.close    \n",
    "    "
   ]
  },
  {
   "cell_type": "code",
   "execution_count": 82,
   "id": "b444ce47",
   "metadata": {},
   "outputs": [
    {
     "name": "stdout",
     "output_type": "stream",
     "text": [
      "Jaspreet Singh\n",
      "\n",
      "Shivansh singh\n",
      "\n",
      "Gurjeet Singh\n",
      "\n"
     ]
    },
    {
     "data": {
      "text/plain": [
       "<function TextIOWrapper.close()>"
      ]
     },
     "execution_count": 82,
     "metadata": {},
     "output_type": "execute_result"
    }
   ],
   "source": [
    "with open(filename,\"r\") as file3:\n",
    "    for file in file3:\n",
    "        print(file)    \n",
    "file2.close"
   ]
  },
  {
   "cell_type": "code",
   "execution_count": 5,
   "id": "41127018",
   "metadata": {},
   "outputs": [
    {
     "name": "stdout",
     "output_type": "stream",
     "text": [
      "hii, my name jaspreet singh\n"
     ]
    },
    {
     "data": {
      "text/plain": [
       "<function TextIOWrapper.close()>"
      ]
     },
     "execution_count": 5,
     "metadata": {},
     "output_type": "execute_result"
    }
   ],
   "source": [
    "with open(\"File.txt\", 'r') as file4:\n",
    "    print(file4.read())\n",
    "file4.close    "
   ]
  },
  {
   "cell_type": "code",
   "execution_count": null,
   "id": "4fd2a67d",
   "metadata": {},
   "outputs": [],
   "source": []
  },
  {
   "cell_type": "code",
   "execution_count": null,
   "id": "a0deea90",
   "metadata": {},
   "outputs": [],
   "source": []
  }
 ],
 "metadata": {
  "kernelspec": {
   "display_name": "Python 3",
   "language": "python",
   "name": "python3"
  },
  "language_info": {
   "codemirror_mode": {
    "name": "ipython",
    "version": 3
   },
   "file_extension": ".py",
   "mimetype": "text/x-python",
   "name": "python",
   "nbconvert_exporter": "python",
   "pygments_lexer": "ipython3",
   "version": "3.8.8"
  }
 },
 "nbformat": 4,
 "nbformat_minor": 5
}
