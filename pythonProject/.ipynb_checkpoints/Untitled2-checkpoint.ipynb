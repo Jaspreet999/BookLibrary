{
 "cells": [
  {
   "cell_type": "code",
   "execution_count": 52,
   "id": "26ccf363",
   "metadata": {},
   "outputs": [
    {
     "name": "stdout",
     "output_type": "stream",
     "text": [
      "[1, 4, 3, 2, 5]\n",
      "[1, 4, 3, 2, 5]\n",
      "[1, 4, 3, 2, 5]\n",
      "[1, 3, 3, 2, 5]\n",
      "[1, 3, 3, 2, 5]\n",
      "[2, 5, 3, 2, 5]\n",
      "[2, 5, 3, 2, 5]\n",
      "[2, 2, 2, 2, 5]\n",
      "[2, 2, 2, 2, 5]\n"
     ]
    }
   ],
   "source": [
    "def merge_sort(arr,l,h):\n",
    "    if(l<h):\n",
    "        mid = (l+h)//2\n",
    "        merge_sort(arr,l,mid)\n",
    "        merge_sort(arr,mid+1,h)\n",
    "        arr = countInversion(arr,l,mid,h)\n",
    "    return arr\n",
    "\n",
    "def countInversion(arr,l,mid,h):\n",
    "    print(arr)\n",
    "    low = l\n",
    "    high = h\n",
    "    i=l\n",
    "    j=mid+1\n",
    "    inversion =0\n",
    "    c = [0]*(h+1)\n",
    "    f = 0\n",
    "    \n",
    "    if(l<h):\n",
    "        while(i<= mid and j<=h):\n",
    "            if(arr[i] < arr[j]):\n",
    "                c[f] =arr[i]\n",
    "                i+=1\n",
    "                f+=1\n",
    "            else:\n",
    "                c[f] =arr[j]\n",
    "                inversion+=1\n",
    "                j+=1\n",
    "                f+=1\n",
    "                \n",
    "    if(i<=mid):\n",
    "        while(i<=mid):\n",
    "            c[f] =arr[i]\n",
    "            i+=1\n",
    "            f+=1\n",
    "    elif(j<=h):\n",
    "        while(j<=h):\n",
    "            c[f] =arr[j]\n",
    "            j+=1\n",
    "            f+=1\n",
    "        \n",
    "    return c\n",
    "\n",
    "print(merge_sort([1,4,3,2,5],0,4))"
   ]
  },
  {
   "cell_type": "code",
   "execution_count": 21,
   "id": "683204d7",
   "metadata": {},
   "outputs": [],
   "source": [
    "def countInversion(arr,l,mid,h):\n",
    "    low = l\n",
    "    high = h\n",
    "    i=l\n",
    "    j=mid+1\n",
    "    inversion =0;\n",
    "    \n",
    "    while(i<= mid and j<=h):\n",
    "        \n",
    "        if(arr[i] < arr[j]):\n",
    "            i+=1\n",
    "        else:\n",
    "            inversion+=1\n",
    "            j+=1\n",
    "    print(inversion)        \n",
    "    return inversion        "
   ]
  },
  {
   "cell_type": "code",
   "execution_count": 22,
   "id": "489607aa",
   "metadata": {},
   "outputs": [
    {
     "name": "stdout",
     "output_type": "stream",
     "text": [
      "0\n"
     ]
    }
   ],
   "source": [
    "print(merge_sort([1,4,3,2,5],0,5))"
   ]
  },
  {
   "cell_type": "code",
   "execution_count": null,
   "id": "d313440b",
   "metadata": {},
   "outputs": [],
   "source": []
  }
 ],
 "metadata": {
  "kernelspec": {
   "display_name": "Python 3",
   "language": "python",
   "name": "python3"
  },
  "language_info": {
   "codemirror_mode": {
    "name": "ipython",
    "version": 3
   },
   "file_extension": ".py",
   "mimetype": "text/x-python",
   "name": "python",
   "nbconvert_exporter": "python",
   "pygments_lexer": "ipython3",
   "version": "3.8.8"
  }
 },
 "nbformat": 4,
 "nbformat_minor": 5
}
