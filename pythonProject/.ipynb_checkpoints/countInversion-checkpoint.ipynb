{
 "cells": [
  {
   "cell_type": "code",
   "execution_count": 95,
   "id": "61ee182a",
   "metadata": {},
   "outputs": [
    {
     "name": "stdout",
     "output_type": "stream",
     "text": [
      "100 0 1\n",
      "0 1\n",
      "100 0 2\n",
      "0 2\n",
      "1 2\n",
      "100 3 4\n",
      "3 4\n",
      "100 3 5\n",
      "3 5\n",
      "100 0 5\n",
      "0 3\n",
      "0 4\n",
      "0 5\n",
      "1 5\n",
      "2 5\n",
      "[5, 10, 12, 14, 15, 17]\n"
     ]
    }
   ],
   "source": [
    "def merge_sort(arr,l,h):\n",
    "    if(l<h):\n",
    "        mid = (l+h)//2\n",
    "        arr = merge_sort(arr,l,mid)\n",
    "        arr = merge_sort(arr,mid+1,h)\n",
    "        arr = countInversion(arr,l,mid,h)\n",
    "    return arr\n",
    "\n",
    "def countInversion(arr,l,mid,h):\n",
    "    print(100,l,h)\n",
    "    low = l\n",
    "    high = h\n",
    "    i=l\n",
    "    j=mid+1\n",
    "    inversion =0\n",
    "    c = []\n",
    "    \n",
    "    if(l<h):\n",
    "        while(i<= mid and j<=h):\n",
    "            print(i,j)\n",
    "            if(arr[i] < arr[j]):\n",
    "                c.append(arr[i])\n",
    "                i+=1\n",
    "                \n",
    "            else:\n",
    "                c.append(arr[j])\n",
    "                inversion+=1\n",
    "                j+=1\n",
    "                \n",
    "                \n",
    "    if(i<=mid):\n",
    "        while(i<=mid):\n",
    "            c.append(arr[i])\n",
    "            i+=1\n",
    "    elif(j<=h):\n",
    "        while(j<=h):\n",
    "            c.append(arr[j])\n",
    "            j+=1\n",
    "            \n",
    "    j=0\n",
    "    for i in range(l,h+1):\n",
    "        arr[i] = c[j]\n",
    "        j+=1\n",
    "        \n",
    "    return arr\n",
    "\n",
    "print(merge_sort([15,12,14,17,10,5],0,5))"
   ]
  },
  {
   "cell_type": "code",
   "execution_count": 100,
   "id": "7a796ef2",
   "metadata": {},
   "outputs": [
    {
     "name": "stdout",
     "output_type": "stream",
     "text": [
      "2\n"
     ]
    }
   ],
   "source": [
    "def merge_sort(arr,l,h):\n",
    "    a=0\n",
    "    b=0\n",
    "    c=0\n",
    "    if(l<h):\n",
    "        mid = (l+h)//2\n",
    "        a = merge_sort(arr,l,mid)\n",
    "        b = merge_sort(arr,mid+1,h)\n",
    "        c = countInversion(arr,l,mid,h)\n",
    "    return a+b+c\n",
    "\n",
    "def countInversion(arr,l,mid,h):\n",
    "    low = l\n",
    "    high = h\n",
    "    i=l\n",
    "    j=mid+1\n",
    "    inversion =0;\n",
    "    \n",
    "    while(i<= mid and j<=h):\n",
    "        \n",
    "        if(arr[i] < arr[j]):\n",
    "            i+=1\n",
    "        else:\n",
    "            inversion+=1\n",
    "            j+=1\n",
    "         \n",
    "    return inversion \n",
    "print(merge_sort([1,4,3,2,5],0,4))"
   ]
  },
  {
   "cell_type": "code",
   "execution_count": 107,
   "id": "c594865f",
   "metadata": {},
   "outputs": [
    {
     "ename": "FileNotFoundError",
     "evalue": "[Errno 2] No such file or directory: 'IntegerArray.txt'",
     "output_type": "error",
     "traceback": [
      "\u001b[1;31m---------------------------------------------------------------------------\u001b[0m",
      "\u001b[1;31mFileNotFoundError\u001b[0m                         Traceback (most recent call last)",
      "\u001b[1;32m<ipython-input-107-f6c0c09520f5>\u001b[0m in \u001b[0;36m<module>\u001b[1;34m\u001b[0m\n\u001b[1;32m----> 1\u001b[1;33m \u001b[0mfp\u001b[0m \u001b[1;33m=\u001b[0m \u001b[0mopen\u001b[0m\u001b[1;33m(\u001b[0m\u001b[1;34m\"IntegerArray.txt\"\u001b[0m\u001b[1;33m,\u001b[0m\u001b[1;34m\"r\"\u001b[0m\u001b[1;33m)\u001b[0m\u001b[1;33m\u001b[0m\u001b[1;33m\u001b[0m\u001b[0m\n\u001b[0m",
      "\u001b[1;31mFileNotFoundError\u001b[0m: [Errno 2] No such file or directory: 'IntegerArray.txt'"
     ]
    }
   ],
   "source": [
    "fp = open(\"IntegerArray.txt\",\"r\")"
   ]
  },
  {
   "cell_type": "code",
   "execution_count": null,
   "id": "97598480",
   "metadata": {},
   "outputs": [],
   "source": []
  }
 ],
 "metadata": {
  "kernelspec": {
   "display_name": "Python 3",
   "language": "python",
   "name": "python3"
  },
  "language_info": {
   "codemirror_mode": {
    "name": "ipython",
    "version": 3
   },
   "file_extension": ".py",
   "mimetype": "text/x-python",
   "name": "python",
   "nbconvert_exporter": "python",
   "pygments_lexer": "ipython3",
   "version": "3.8.8"
  }
 },
 "nbformat": 4,
 "nbformat_minor": 5
}
