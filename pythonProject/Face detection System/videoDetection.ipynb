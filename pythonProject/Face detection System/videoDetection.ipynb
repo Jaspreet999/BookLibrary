{
 "cells": [
  {
   "cell_type": "code",
   "execution_count": 2,
   "id": "7597e587",
   "metadata": {},
   "outputs": [],
   "source": [
    "import cv2"
   ]
  },
  {
   "cell_type": "code",
   "execution_count": 3,
   "id": "ee6b8348",
   "metadata": {},
   "outputs": [],
   "source": [
    "cam = cv2.VideoCapture(0)"
   ]
  },
  {
   "cell_type": "code",
   "execution_count": 4,
   "id": "8ba9c1f7",
   "metadata": {},
   "outputs": [],
   "source": [
    "face_cascade = cv2.CascadeClassifier('haarcascade_frontalface_default.xml')"
   ]
  },
  {
   "cell_type": "code",
   "execution_count": null,
   "id": "5cf6dc21",
   "metadata": {},
   "outputs": [],
   "source": [
    "while True :\n",
    "    _, img  = cam.read()\n",
    "    gray = cv2.cvtColor(img,cv2.COLOR_BGR2GRAY)\n",
    "    \n",
    "    face = face_cascade.detectMultiScale(gray, 1.1 , 15)\n",
    "    \n",
    "    for(x,y,w,h) in face:\n",
    "        cv2.rectangle(img,(x,y),(x+w,y+h),(0,255,0),10)\n",
    "        \n",
    "    cv2.imshow('img',img)\n",
    "    k = cv2.waitKey(27) & 0xff\n",
    "    if k == 27:\n",
    "       break\n",
    "        \n",
    "cam.release()        \n",
    "    "
   ]
  },
  {
   "cell_type": "code",
   "execution_count": null,
   "id": "4e49d47e",
   "metadata": {},
   "outputs": [],
   "source": []
  }
 ],
 "metadata": {
  "kernelspec": {
   "display_name": "Python 3",
   "language": "python",
   "name": "python3"
  },
  "language_info": {
   "codemirror_mode": {
    "name": "ipython",
    "version": 3
   },
   "file_extension": ".py",
   "mimetype": "text/x-python",
   "name": "python",
   "nbconvert_exporter": "python",
   "pygments_lexer": "ipython3",
   "version": "3.8.8"
  }
 },
 "nbformat": 4,
 "nbformat_minor": 5
}
